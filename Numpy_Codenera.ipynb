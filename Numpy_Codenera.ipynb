{
  "nbformat": 4,
  "nbformat_minor": 0,
  "metadata": {
    "colab": {
      "provenance": [],
      "authorship_tag": "ABX9TyMOG4euogMaB3efMw5LcPJr",
      "include_colab_link": true
    },
    "kernelspec": {
      "name": "python3",
      "display_name": "Python 3"
    },
    "language_info": {
      "name": "python"
    }
  },
  "cells": [
    {
      "cell_type": "markdown",
      "metadata": {
        "id": "view-in-github",
        "colab_type": "text"
      },
      "source": [
        "<a href=\"https://colab.research.google.com/github/Rishabh6066/numpy_initial/blob/main/Numpy_Codenera.ipynb\" target=\"_parent\"><img src=\"https://colab.research.google.com/assets/colab-badge.svg\" alt=\"Open In Colab\"/></a>"
      ]
    },
    {
      "cell_type": "markdown",
      "source": [
        "**ADVANCED PYTHON STARTED**"
      ],
      "metadata": {
        "id": "pTs-Ss451xOh"
      }
    },
    {
      "cell_type": "code",
      "execution_count": null,
      "metadata": {
        "id": "yQBcLm2p1lh3",
        "colab": {
          "base_uri": "https://localhost:8080/",
          "height": 157
        },
        "outputId": "cf4d2fe8-27ce-4687-af2e-105d7f6ce866"
      },
      "outputs": [
        {
          "output_type": "execute_result",
          "data": {
            "text/plain": [
              "'\\nWhat is NumPy?\\n\\nNumPy is a Python library used for working with arrays.\\nIt also has functions for working in domain of linear algebra, fourier transform, and matrices.\\nNumPy was created in 2005 by Travis Oliphant. It is an open source project and you can use it freely.\\nNumPy stands for Numerical Python.\\n\\nWhy Use NumPy?\\n\\nIn Python we have lists that serve the purpose of arrays, but they are slow to process.\\nNumPy aims to provide an array object that is up to 50x faster than traditional Python lists.\\nThe array object in NumPy is called ndarray, it provides a lot of supporting functions that make\\nworking with ndarray very easy.\\nArrays are very frequently used in data science, where speed and resources are very important.\\nData Science: is a branch of computer science where we study how to store, use and analyze\\n data for deriving information from it.\\n\\nWhy is NumPy Faster Than Lists?\\n\\nNumPy arrays are stored at one continuous place in memory unlike lists, so processes can access\\nand manipulate them very efficiently.\\nThis behavior is called locality of reference in computer science.\\nThis is the main reason why NumPy is faster than lists. Also it is optimized to work with\\nlatest CPU architectures.\\n\\n\\nWhich Language is NumPy written in?\\n\\nNumPy is a Python library and is written partially in Python,\\n but most of the parts that require fast computation are written in C or C++.\\n'"
            ],
            "application/vnd.google.colaboratory.intrinsic+json": {
              "type": "string"
            }
          },
          "metadata": {},
          "execution_count": 1
        }
      ],
      "source": [
        "'''\n",
        "What is NumPy?\n",
        "\n",
        "NumPy is a Python library used for working with arrays.\n",
        "It also has functions for working in domain of linear algebra, fourier transform, and matrices.\n",
        "NumPy was created in 2005 by Travis Oliphant. It is an open source project and you can use it freely.\n",
        "NumPy stands for Numerical Python.\n",
        "\n",
        "Why Use NumPy?\n",
        "\n",
        "In Python we have lists that serve the purpose of arrays, but they are slow to process.\n",
        "NumPy aims to provide an array object that is up to 50x faster than traditional Python lists.\n",
        "The array object in NumPy is called ndarray, it provides a lot of supporting functions that make\n",
        "working with ndarray very easy.\n",
        "Arrays are very frequently used in data science, where speed and resources are very important.\n",
        "Data Science: is a branch of computer science where we study how to store, use and analyze\n",
        " data for deriving information from it.\n",
        "\n",
        "Why is NumPy Faster Than Lists?\n",
        "\n",
        "NumPy arrays are stored at one continuous place in memory unlike lists, so processes can access\n",
        "and manipulate them very efficiently.\n",
        "This behavior is called locality of reference in computer science.\n",
        "This is the main reason why NumPy is faster than lists. Also it is optimized to work with\n",
        "latest CPU architectures.\n",
        "\n",
        "\n",
        "Which Language is NumPy written in?\n",
        "\n",
        "NumPy is a Python library and is written partially in Python,\n",
        " but most of the parts that require fast computation are written in C or C++.\n",
        "'''"
      ]
    },
    {
      "cell_type": "code",
      "source": [
        "'''\n",
        "Array-\n",
        "    Collection of Homogeneous data,\n",
        "    indexed and ordered, allows duplicated values, mutable(can do changes.)\n",
        "'''"
      ],
      "metadata": {
        "id": "HvC_md4_5CVF"
      },
      "execution_count": null,
      "outputs": []
    },
    {
      "cell_type": "markdown",
      "source": [
        "Creating an array\n"
      ],
      "metadata": {
        "id": "dZywwuuG1xYx"
      }
    },
    {
      "cell_type": "code",
      "source": [
        "import numpy as np\n",
        "arr= np.array([1,2,3,4,5])\n",
        "print(arr)\n",
        "print(type(arr))"
      ],
      "metadata": {
        "colab": {
          "base_uri": "https://localhost:8080/"
        },
        "id": "4kXs98sL6AzD",
        "outputId": "80282aad-7d96-446d-bf6a-3865fa0f7238"
      },
      "execution_count": null,
      "outputs": [
        {
          "output_type": "stream",
          "name": "stdout",
          "text": [
            "[1 2 3 4 5]\n",
            "<class 'numpy.ndarray'>\n"
          ]
        }
      ]
    },
    {
      "cell_type": "markdown",
      "source": [
        "O-D Array"
      ],
      "metadata": {
        "id": "UWupopYv6ze2"
      }
    },
    {
      "cell_type": "code",
      "source": [
        "arr= np.array('a')\n",
        "print(arr)\n",
        "\n",
        "print(arr)\n",
        "print(type(arr))\n",
        "print('Dimension of array arr:',arr.ndim,'dimension') # ndim means as n-no. dim-dimensions"
      ],
      "metadata": {
        "colab": {
          "base_uri": "https://localhost:8080/"
        },
        "id": "SwFRiP5B68G4",
        "outputId": "eb6632b2-b26d-46a2-fe46-95e8a8be7dca"
      },
      "execution_count": null,
      "outputs": [
        {
          "output_type": "stream",
          "name": "stdout",
          "text": [
            "a\n",
            "a\n",
            "<class 'numpy.ndarray'>\n",
            "Dimension of array arr: 0 dimension\n"
          ]
        }
      ]
    },
    {
      "cell_type": "markdown",
      "source": [
        "1-D array"
      ],
      "metadata": {
        "id": "k6WNN0AR8KYh"
      }
    },
    {
      "cell_type": "code",
      "source": [
        "arr= np.array([1,2,3,4,5,6,7,8])\n",
        "print(arr)\n",
        "\n",
        "print(arr)\n",
        "print(type(arr))\n",
        "print('Dimension of array arr:',arr.ndim,'dimension')"
      ],
      "metadata": {
        "colab": {
          "base_uri": "https://localhost:8080/"
        },
        "id": "fEl55byp7k2s",
        "outputId": "cbfff3e8-6535-4452-dc7a-34228ec2cebf"
      },
      "execution_count": null,
      "outputs": [
        {
          "output_type": "stream",
          "name": "stdout",
          "text": [
            "[1 2 3 4 5 6 7 8]\n",
            "[1 2 3 4 5 6 7 8]\n",
            "<class 'numpy.ndarray'>\n",
            "Dimension of array arr: 1 dimension\n"
          ]
        }
      ]
    },
    {
      "cell_type": "markdown",
      "source": [
        "2-D array"
      ],
      "metadata": {
        "id": "dQ37msaj8x4w"
      }
    },
    {
      "cell_type": "code",
      "source": [
        "arr= np.array([\n",
        "                [1,2,3],\n",
        "                [4,5,6],\n",
        "                [7,8,9],\n",
        "                [10,11,12]\n",
        "             ])\n",
        "print(arr)\n",
        "print(type(arr))\n",
        "print('Dimension of array arr:',arr.ndim,'dimension')"
      ],
      "metadata": {
        "colab": {
          "base_uri": "https://localhost:8080/"
        },
        "id": "h6wKnQFO8qT9",
        "outputId": "a165a235-1c01-4a41-8afd-3a11b935da87"
      },
      "execution_count": null,
      "outputs": [
        {
          "output_type": "stream",
          "name": "stdout",
          "text": [
            "[[ 1  2  3]\n",
            " [ 4  5  6]\n",
            " [ 7  8  9]\n",
            " [10 11 12]]\n",
            "<class 'numpy.ndarray'>\n",
            "Dimension of array arr: 2 dimension\n"
          ]
        }
      ]
    },
    {
      "cell_type": "code",
      "source": [],
      "metadata": {
        "id": "DlpSYHH3X8P5"
      },
      "execution_count": null,
      "outputs": []
    },
    {
      "cell_type": "markdown",
      "source": [
        "3-D arrray"
      ],
      "metadata": {
        "id": "8qe-LEC3-GvR"
      }
    },
    {
      "cell_type": "code",
      "source": [
        "arr= np.array([\n",
        "            [\n",
        "                [1,2,3],\n",
        "                [4,5,6]\n",
        "            ],\n",
        "            [\n",
        "                [11,12,13],\n",
        "                [14,15,16]\n",
        "            ],\n",
        "            [\n",
        "                [21,22,23],\n",
        "                [24,25,26]\n",
        "            ]\n",
        "             ])\n",
        "print(arr)\n",
        "print(type(arr))\n",
        "print('Dimension of array arr:',arr.ndim,'dimension')"
      ],
      "metadata": {
        "colab": {
          "base_uri": "https://localhost:8080/"
        },
        "id": "td--qB_j-ELL",
        "outputId": "26acfd08-5132-425a-f936-b92d2e79c2fd"
      },
      "execution_count": null,
      "outputs": [
        {
          "output_type": "stream",
          "name": "stdout",
          "text": [
            "[[[ 1  2  3]\n",
            "  [ 4  5  6]]\n",
            "\n",
            " [[11 12 13]\n",
            "  [14 15 16]]\n",
            "\n",
            " [[21 22 23]\n",
            "  [24 25 26]]]\n",
            "<class 'numpy.ndarray'>\n",
            "Dimension of array arr: 3 dimension\n"
          ]
        }
      ]
    },
    {
      "cell_type": "markdown",
      "source": [
        "n-D Array / (Multiple Dimensional array)"
      ],
      "metadata": {
        "id": "IDbQC4Qs_V8h"
      }
    },
    {
      "cell_type": "code",
      "source": [
        "arr= np.array([1,2,3],ndmin=5)\n",
        "print(arr)\n",
        "\n",
        "print(arr)\n",
        "print(type(arr))\n",
        "print('Dimension of array arr:',arr.ndim,'dimension')"
      ],
      "metadata": {
        "colab": {
          "base_uri": "https://localhost:8080/"
        },
        "id": "h0Y7SagZ_i8l",
        "outputId": "ef9ce501-bbe7-40ca-c92a-acbdfb53f598"
      },
      "execution_count": null,
      "outputs": [
        {
          "output_type": "stream",
          "name": "stdout",
          "text": [
            "[[[[[1 2 3]]]]]\n",
            "[[[[[1 2 3]]]]]\n",
            "<class 'numpy.ndarray'>\n",
            "Dimension of array arr: 5 dimension\n"
          ]
        }
      ]
    },
    {
      "cell_type": "code",
      "source": [
        "arr= np.araay([1,2,3.,'5'])\n",
        "print(arr)\n",
        "'''\n",
        "If we create an array(hetrogeneous)\n",
        "'''"
      ],
      "metadata": {
        "id": "i-OTtB8eAqHf",
        "colab": {
          "base_uri": "https://localhost:8080/",
          "height": 332
        },
        "outputId": "f9a781f0-26ba-4196-d0ab-cde8a694a83a"
      },
      "execution_count": null,
      "outputs": [
        {
          "output_type": "error",
          "ename": "AttributeError",
          "evalue": "module 'numpy' has no attribute 'araay'",
          "traceback": [
            "\u001b[0;31m---------------------------------------------------------------------------\u001b[0m",
            "\u001b[0;31mAttributeError\u001b[0m                            Traceback (most recent call last)",
            "\u001b[0;32m<ipython-input-8-7114ff90c08f>\u001b[0m in \u001b[0;36m<cell line: 0>\u001b[0;34m()\u001b[0m\n\u001b[0;32m----> 1\u001b[0;31m \u001b[0marr\u001b[0m\u001b[0;34m=\u001b[0m \u001b[0mnp\u001b[0m\u001b[0;34m.\u001b[0m\u001b[0maraay\u001b[0m\u001b[0;34m(\u001b[0m\u001b[0;34m[\u001b[0m\u001b[0;36m1\u001b[0m\u001b[0;34m,\u001b[0m\u001b[0;36m2\u001b[0m\u001b[0;34m,\u001b[0m\u001b[0;36m3.\u001b[0m\u001b[0;34m,\u001b[0m\u001b[0;34m'5'\u001b[0m\u001b[0;34m]\u001b[0m\u001b[0;34m)\u001b[0m\u001b[0;34m\u001b[0m\u001b[0;34m\u001b[0m\u001b[0m\n\u001b[0m\u001b[1;32m      2\u001b[0m \u001b[0mprint\u001b[0m\u001b[0;34m(\u001b[0m\u001b[0marr\u001b[0m\u001b[0;34m)\u001b[0m\u001b[0;34m\u001b[0m\u001b[0;34m\u001b[0m\u001b[0m\n\u001b[1;32m      3\u001b[0m '''\n\u001b[1;32m      4\u001b[0m \u001b[0mIf\u001b[0m \u001b[0mwe\u001b[0m \u001b[0mcreate\u001b[0m \u001b[0man\u001b[0m \u001b[0marray\u001b[0m\u001b[0;34m(\u001b[0m\u001b[0mhetrogeneous\u001b[0m\u001b[0;34m)\u001b[0m\u001b[0;34m\u001b[0m\u001b[0;34m\u001b[0m\u001b[0m\n\u001b[1;32m      5\u001b[0m '''\n",
            "\u001b[0;32m/usr/local/lib/python3.11/dist-packages/numpy/__init__.py\u001b[0m in \u001b[0;36m__getattr__\u001b[0;34m(attr)\u001b[0m\n\u001b[1;32m    331\u001b[0m             \u001b[0;32mraise\u001b[0m \u001b[0mRuntimeError\u001b[0m\u001b[0;34m(\u001b[0m\u001b[0;34m\"Tester was removed in NumPy 1.25.\"\u001b[0m\u001b[0;34m)\u001b[0m\u001b[0;34m\u001b[0m\u001b[0;34m\u001b[0m\u001b[0m\n\u001b[1;32m    332\u001b[0m \u001b[0;34m\u001b[0m\u001b[0m\n\u001b[0;32m--> 333\u001b[0;31m         raise AttributeError(\"module {!r} has no attribute \"\n\u001b[0m\u001b[1;32m    334\u001b[0m                              \"{!r}\".format(__name__, attr))\n\u001b[1;32m    335\u001b[0m \u001b[0;34m\u001b[0m\u001b[0m\n",
            "\u001b[0;31mAttributeError\u001b[0m: module 'numpy' has no attribute 'araay'"
          ]
        }
      ]
    },
    {
      "cell_type": "markdown",
      "source": [
        "Indexing"
      ],
      "metadata": {
        "id": "qq6BBmgHCPSi"
      }
    },
    {
      "cell_type": "code",
      "source": [
        "arr= np.array([1,2,3,4,5,6,7,8])"
      ],
      "metadata": {
        "id": "9lzd1wXOCRFn"
      },
      "execution_count": null,
      "outputs": []
    },
    {
      "cell_type": "markdown",
      "source": [
        "for 2D\n"
      ],
      "metadata": {
        "id": "fr3ZHe4YCe-C"
      }
    },
    {
      "cell_type": "code",
      "source": [
        "arr= np.array([\n",
        "                [1,2,3],\n",
        "                [4,5,6],\n",
        "             ])\n",
        "print(arr[0])\n",
        "print(arr[1])\n",
        "\n",
        "print(arr[0][0])\n",
        "print(arr[0][1])\n",
        "print(arr[0][2])\n",
        "\n",
        "print(arr[1][0])\n",
        "print(arr[1][1])\n",
        "print(arr[1][2])\n"
      ],
      "metadata": {
        "colab": {
          "base_uri": "https://localhost:8080/"
        },
        "id": "f0agHhzqCd1G",
        "outputId": "4a32a58a-1715-4a6d-ed1b-8b4a0eaba666"
      },
      "execution_count": null,
      "outputs": [
        {
          "output_type": "stream",
          "name": "stdout",
          "text": [
            "[1 2 3]\n",
            "[4 5 6]\n",
            "1\n",
            "2\n",
            "3\n",
            "4\n",
            "5\n",
            "6\n"
          ]
        }
      ]
    },
    {
      "cell_type": "code",
      "source": [
        "arr= np.array([\n",
        "                [1,2,3,4,5],\n",
        "                [6,7,8,9,10],\n",
        "                [11,12,13,14,15]\n",
        "\n",
        "             ])\n",
        "\n",
        "print(arr[0])\n",
        "print(arr[1])\n",
        "print(arr[2])\n",
        "\n",
        "print(arr[0][0])\n",
        "print(arr[0][1])\n",
        "print(arr[0][2])\n",
        "print(arr[0][3])\n",
        "print(arr[0][4])\n",
        "\n",
        "print(arr[1][0])\n",
        "print(arr[1][1])\n",
        "print(arr[1][2])\n",
        "print(arr[1][3])\n",
        "print(arr[1][4])\n"
      ],
      "metadata": {
        "colab": {
          "base_uri": "https://localhost:8080/"
        },
        "id": "MH7Zn0t-DW4N",
        "outputId": "971c4392-90ef-494e-c532-5e8216f54098"
      },
      "execution_count": null,
      "outputs": [
        {
          "output_type": "stream",
          "name": "stdout",
          "text": [
            "[1 2 3 4 5]\n",
            "[ 6  7  8  9 10]\n",
            "[11 12 13 14 15]\n",
            "1\n",
            "2\n",
            "3\n",
            "4\n",
            "5\n",
            "6\n",
            "7\n",
            "8\n",
            "9\n",
            "10\n"
          ]
        }
      ]
    },
    {
      "cell_type": "markdown",
      "source": [
        "Range()"
      ],
      "metadata": {
        "id": "4b3cRXGyEB9F"
      }
    },
    {
      "cell_type": "code",
      "source": [
        "# 8 extract\n",
        "print(arr)\n",
        "print(arr[1][-3])\n",
        "\n"
      ],
      "metadata": {
        "colab": {
          "base_uri": "https://localhost:8080/"
        },
        "id": "YRdBiUcDEET2",
        "outputId": "1fa83bb7-4c51-44a2-891f-cb427de887cd"
      },
      "execution_count": null,
      "outputs": [
        {
          "output_type": "stream",
          "name": "stdout",
          "text": [
            "[[ 1  2  3  4  5]\n",
            " [ 6  7  8  9 10]\n",
            " [11 12 13 14 15]]\n",
            "8\n"
          ]
        }
      ]
    },
    {
      "cell_type": "code",
      "source": [
        "arr= np.array([\n",
        "                [66,32,22],\n",
        "                [89,79,32],\n",
        "                [100,22,379]\n",
        "             ])\n",
        "\n",
        "# -ve range: list 2 last 2 element\n",
        "\n",
        "print(arr[2][-2:])\n",
        "\n"
      ],
      "metadata": {
        "colab": {
          "base_uri": "https://localhost:8080/"
        },
        "id": "GvijBHf3FzWR",
        "outputId": "b8f5e174-e710-4cdd-d0bf-7241a2069c8d"
      },
      "execution_count": null,
      "outputs": [
        {
          "output_type": "stream",
          "name": "stdout",
          "text": [
            "[ 22 379]\n"
          ]
        }
      ]
    },
    {
      "cell_type": "code",
      "source": [
        "arr= np.array([\n",
        "                [1,2,3],\n",
        "                [4,5,6],\n",
        "                [7,8,9]\n",
        "             ])\n",
        "\n",
        "\n",
        "#[[1 3]\n",
        "# [7 9]]\n",
        "print(arr[::2,::2])"
      ],
      "metadata": {
        "colab": {
          "base_uri": "https://localhost:8080/"
        },
        "id": "qTJNlgiEG9iT",
        "outputId": "a43539e9-d3e8-4eef-c809-f072925fe5ba"
      },
      "execution_count": null,
      "outputs": [
        {
          "output_type": "stream",
          "name": "stdout",
          "text": [
            "[[1 3]\n",
            " [7 9]]\n"
          ]
        }
      ]
    },
    {
      "cell_type": "markdown",
      "source": [
        "Extra"
      ],
      "metadata": {
        "id": "B3IAYMc-YGyT"
      }
    },
    {
      "cell_type": "code",
      "source": [
        "arr= np.array([\n",
        "                [1,2,3],\n",
        "                [4,5,6],\n",
        "                [11,20,23],\n",
        "                [14,56,68]\n",
        "])\n",
        "\n",
        "print(arr[2:,::2])\n",
        "\n",
        "print(arr[1::2,::2])\n",
        "\n",
        "print(arr[::3,::-2])\n",
        "\n",
        "print(arr[::,::-1])\n",
        "\n",
        "print(arr[::-1,::-1])"
      ],
      "metadata": {
        "colab": {
          "base_uri": "https://localhost:8080/"
        },
        "id": "Lm1tK-zJX-P5",
        "outputId": "5daf784c-7d32-481a-cea6-7bd49ca4c02f"
      },
      "execution_count": null,
      "outputs": [
        {
          "output_type": "stream",
          "name": "stdout",
          "text": [
            "[[11 23]\n",
            " [14 68]]\n",
            "[[ 4  6]\n",
            " [14 68]]\n",
            "[[ 3  1]\n",
            " [68 14]]\n",
            "[[ 3  2  1]\n",
            " [ 6  5  4]\n",
            " [23 20 11]\n",
            " [68 56 14]]\n",
            "[[68 56 14]\n",
            " [23 20 11]\n",
            " [ 6  5  4]\n",
            " [ 3  2  1]]\n"
          ]
        }
      ]
    },
    {
      "cell_type": "code",
      "source": [
        "arr= np.array([\n",
        "            [\n",
        "                [1,2,3],\n",
        "                [4,5,6]\n",
        "            ]\n",
        "            [\n",
        "               [11,20,23],\n",
        "               [14,15,16]\n",
        "            ]\n",
        "            [\n",
        "                [21,22,23],\n",
        "                [24,25,26]\n",
        "            ]\n",
        "\n",
        "])\n",
        "\n",
        "print(arr[::-1,::-1,::-1])"
      ],
      "metadata": {
        "colab": {
          "base_uri": "https://localhost:8080/",
          "height": 280
        },
        "id": "L6saRDIBc7vh",
        "outputId": "8d3934ed-02a2-4e43-b9e0-cd08f88a8ba0"
      },
      "execution_count": null,
      "outputs": [
        {
          "output_type": "stream",
          "name": "stderr",
          "text": [
            "<>:2: SyntaxWarning: list indices must be integers or slices, not tuple; perhaps you missed a comma?\n",
            "<>:2: SyntaxWarning: list indices must be integers or slices, not tuple; perhaps you missed a comma?\n",
            "<ipython-input-2-931f888e7551>:2: SyntaxWarning: list indices must be integers or slices, not tuple; perhaps you missed a comma?\n",
            "  [\n"
          ]
        },
        {
          "output_type": "error",
          "ename": "TypeError",
          "evalue": "list indices must be integers or slices, not tuple",
          "traceback": [
            "\u001b[0;31m---------------------------------------------------------------------------\u001b[0m",
            "\u001b[0;31mTypeError\u001b[0m                                 Traceback (most recent call last)",
            "\u001b[0;32m<ipython-input-2-931f888e7551>\u001b[0m in \u001b[0;36m<cell line: 0>\u001b[0;34m()\u001b[0m\n\u001b[1;32m      1\u001b[0m arr= np.array([\n\u001b[0;32m----> 2\u001b[0;31m             [\n\u001b[0m\u001b[1;32m      3\u001b[0m                 \u001b[0;34m[\u001b[0m\u001b[0;36m1\u001b[0m\u001b[0;34m,\u001b[0m\u001b[0;36m2\u001b[0m\u001b[0;34m,\u001b[0m\u001b[0;36m3\u001b[0m\u001b[0;34m]\u001b[0m\u001b[0;34m,\u001b[0m\u001b[0;34m\u001b[0m\u001b[0;34m\u001b[0m\u001b[0m\n\u001b[1;32m      4\u001b[0m                 \u001b[0;34m[\u001b[0m\u001b[0;36m4\u001b[0m\u001b[0;34m,\u001b[0m\u001b[0;36m5\u001b[0m\u001b[0;34m,\u001b[0m\u001b[0;36m6\u001b[0m\u001b[0;34m]\u001b[0m\u001b[0;34m\u001b[0m\u001b[0;34m\u001b[0m\u001b[0m\n\u001b[1;32m      5\u001b[0m             ]\n",
            "\u001b[0;31mTypeError\u001b[0m: list indices must be integers or slices, not tuple"
          ]
        }
      ]
    },
    {
      "cell_type": "code",
      "source": [
        "# create a 3*3 2d array and\n",
        "# find the elements that are on the edges of array,\n",
        "# each first and last element of all the rows,\n",
        "# middle element of the array\n",
        "# using slicing\n",
        "\n",
        "\n",
        "\n",
        "import numpy as np"
      ],
      "metadata": {
        "id": "DyYdKEkP9m5K"
      },
      "execution_count": null,
      "outputs": []
    },
    {
      "cell_type": "code",
      "source": [
        "import numpy as np\n",
        "\n",
        "\n",
        "arr = np.array([[1, 2, 3],\n",
        "                [4, 5, 6],\n",
        "                [7, 8, 9]  ])\n",
        "print(\"elements that are on the edges of array\")\n",
        "print(arr[::2,::2])\n",
        "print(\"each first and last element of all the rows\")\n",
        "print(arr[:,::2])\n",
        "print(\"middle element of the array\")\n",
        "print(arr[1, 1])\n",
        "print(\"middle column element of array\")\n",
        "print(arr[:,1])\n"
      ],
      "metadata": {
        "colab": {
          "base_uri": "https://localhost:8080/"
        },
        "id": "j6WUphKL9qjN",
        "outputId": "3fddf79a-09b1-40b3-e686-27800a994000"
      },
      "execution_count": null,
      "outputs": [
        {
          "output_type": "stream",
          "name": "stdout",
          "text": [
            "elements that are on the edges of array\n",
            "[[1 3]\n",
            " [7 9]]\n",
            "each first and last element of all the rows\n",
            "[[1 3]\n",
            " [4 6]\n",
            " [7 9]]\n",
            "middle element of the array\n",
            "5\n",
            "middle column element of array\n",
            "[2 5 8]\n"
          ]
        }
      ]
    },
    {
      "cell_type": "code",
      "source": [
        "# create 4*5 array find the elements\n",
        "# Eg:\n",
        "# * * * * *\n",
        "# * 1 2 3 *\n",
        "# * 4 5 6 *\n",
        "# * * * * *\n",
        "# slice 1,3,4,6"
      ],
      "metadata": {
        "id": "bdFpLD2w9uyq"
      },
      "execution_count": null,
      "outputs": []
    },
    {
      "cell_type": "code",
      "source": [
        "\n",
        "arr = np.array([\n",
        "    [0, 0, 0, 0, 0],\n",
        "    [0, 1, 2, 3, 0],\n",
        "    [0, 4, 5, 6, 0],\n",
        "    [0, 0, 0, 0, 0]\n",
        "])\n",
        "print(arr)\n",
        "\n",
        "sliced_elements = [arr[1, 1], arr[1, 3], arr[2, 1], arr[2, 3]]\n",
        "\n",
        "print(sliced_elements)"
      ],
      "metadata": {
        "colab": {
          "base_uri": "https://localhost:8080/"
        },
        "id": "HRgTZQqs9v7x",
        "outputId": "281fa7aa-f1fb-4ca9-dfd1-3896e4036b4b"
      },
      "execution_count": null,
      "outputs": [
        {
          "output_type": "stream",
          "name": "stdout",
          "text": [
            "[[0 0 0 0 0]\n",
            " [0 1 2 3 0]\n",
            " [0 4 5 6 0]\n",
            " [0 0 0 0 0]]\n",
            "[1, 3, 4, 6]\n"
          ]
        }
      ]
    },
    {
      "cell_type": "markdown",
      "source": [
        "3D array slicing"
      ],
      "metadata": {
        "id": "-Ejx_v_p94tf"
      }
    },
    {
      "cell_type": "code",
      "source": [
        "\n",
        "arr = np.array([\n",
        "    [[1, 2, 3],\n",
        "     [4, 5, 6],\n",
        "     [7, 8, 9]],\n",
        "\n",
        "    [[11, 12, 13],\n",
        "     [14, 15, 16],\n",
        "     [17, 18, 19]],\n",
        "\n",
        "    [[21, 22, 23],\n",
        "     [24, 25, 26],\n",
        "     [27, 28, 29]]\n",
        "])\n",
        "\n",
        "print(arr)\n",
        "print(\"Number of dimensions:\", arr.ndim)\n"
      ],
      "metadata": {
        "colab": {
          "base_uri": "https://localhost:8080/"
        },
        "id": "TTxVIyUy9wCm",
        "outputId": "ec3fee33-33ae-4903-a169-b8ed8a156a0e"
      },
      "execution_count": null,
      "outputs": [
        {
          "output_type": "stream",
          "name": "stdout",
          "text": [
            "[[[ 1  2  3]\n",
            "  [ 4  5  6]\n",
            "  [ 7  8  9]]\n",
            "\n",
            " [[11 12 13]\n",
            "  [14 15 16]\n",
            "  [17 18 19]]\n",
            "\n",
            " [[21 22 23]\n",
            "  [24 25 26]\n",
            "  [27 28 29]]]\n",
            "Number of dimensions: 3\n"
          ]
        }
      ]
    },
    {
      "cell_type": "code",
      "source": [
        "print(\"a 2d array on 2-0 in 3d array\")\n",
        "print(arr[0])\n",
        "\n",
        "print(\"a 2d array on 2-1 in 3d array\")\n",
        "print(arr[1])\n",
        "\n",
        "print(\"a 2d array on 2-2 in 3d array\")\n",
        "print(arr[2])"
      ],
      "metadata": {
        "colab": {
          "base_uri": "https://localhost:8080/"
        },
        "id": "pmq_RwQG9wGK",
        "outputId": "ece54784-9c71-4dd3-fd72-1d1b39fd13fb"
      },
      "execution_count": null,
      "outputs": [
        {
          "output_type": "stream",
          "name": "stdout",
          "text": [
            "a 2d array on 2-0 in 3d array\n",
            "[0 0 0 0 0]\n",
            "a 2d array on 2-1 in 3d array\n",
            "[0 1 2 3 0]\n",
            "a 2d array on 2-2 in 3d array\n",
            "[0 4 5 6 0]\n"
          ]
        }
      ]
    },
    {
      "cell_type": "code",
      "source": [
        "print(arr[0][0])\n",
        "print(arr[0][1])\n",
        "print(arr[0][2])\n",
        "\n",
        "print(arr[1][0])\n",
        "print(arr[1][1])\n",
        "print(arr[1][2])\n",
        "\n",
        "print(arr[2][0])\n",
        "print(arr[2][1])\n",
        "print(arr[2][2])\n",
        "\n",
        "#first and last row from 2-0\n",
        "print(\"first and last row from 2-0\")\n",
        "print(arr[0,::2])\n",
        "\n",
        "#first and last row from first and last 2d arrays\n",
        "print(\"first and last row from first and last 2d arrays\")\n",
        "print(arr[::2,::2])"
      ],
      "metadata": {
        "colab": {
          "base_uri": "https://localhost:8080/"
        },
        "id": "dnXZTUzo9wX1",
        "outputId": "e91a448a-2d6e-452b-da69-c7c79f00ed28"
      },
      "execution_count": null,
      "outputs": [
        {
          "output_type": "stream",
          "name": "stdout",
          "text": [
            "0\n",
            "0\n",
            "0\n",
            "0\n",
            "1\n",
            "2\n",
            "0\n",
            "4\n",
            "5\n",
            "first and last row from 2-0\n",
            "[0 0 0]\n",
            "first and last row from first and last 2d arrays\n",
            "[[0 0 0]\n",
            " [0 5 0]]\n"
          ]
        }
      ]
    },
    {
      "cell_type": "code",
      "source": [
        "# z-0 y-0\n",
        "print('(0,0,0)',arr[0][0][0])\n",
        "print('(0,0,1)',arr[0][0][1])\n",
        "print('(0,0,2)',arr[0][0][2])\n",
        "\n",
        "#z-0 y-1\n",
        "print('(0,1,0)',arr[0][1][0])\n",
        "print('(0,1,1)',arr[0][1][1])\n",
        "print('(0,1,2)',arr[0][1][2])\n",
        "\n",
        "#z-0 y-2\n",
        "print('(0,2,0)',arr[0][2][0])\n",
        "print('(0,2,1)',arr[0][2][1])\n",
        "print('(0,2,2)',arr[0][2][2])\n",
        "\n",
        "#z-1 y-0\n",
        "print('(1,0,0)',arr[1][0][0])\n",
        "print('(1,0,1)',arr[1][0][1])\n",
        "print('(1,0,2)',arr[1][0][2])\n",
        "\n",
        "#z-1 y-1\n",
        "print('(1,1,0)',arr[1][1][0])\n",
        "print('(1,1,1)',arr[1][1][1])\n",
        "print('(1,1,2)',arr[1][1][2])\n",
        "\n",
        "#z-1 y-2\n",
        "print('(0,2,0)',arr[1][2][0])\n",
        "print('(1,2,1)',arr[1][2][1])\n",
        "print('(1,2,2)',arr[1][2][2])\n",
        "\n",
        "#z-2 y-0\n",
        "print('(2,0,0)',arr[2][0][0])\n",
        "print('(2,0,1)',arr[2][0][1])\n",
        "print('(2,0,2)',arr[2][0][2])\n",
        "\n",
        "# z-2 y-1\n",
        "print('(2,1,0)',arr[2][1][0])\n",
        "print('(2,1,2)',arr[2][1][1])\n",
        "print('(2,1,2)',arr[2][1][2])\n",
        "\n",
        "#z-2 y-2\n",
        "print('(2,2,0)',arr[2][2][0])\n",
        "print('(2,2,1)',arr[2][2][1])\n",
        "print('(2,2,2)',arr[2][2][2])"
      ],
      "metadata": {
        "colab": {
          "base_uri": "https://localhost:8080/",
          "height": 211
        },
        "id": "3uwNPG52-H5Y",
        "outputId": "f36b5786-23ba-4aa8-a18c-b3758ff843c0"
      },
      "execution_count": null,
      "outputs": [
        {
          "output_type": "error",
          "ename": "IndexError",
          "evalue": "invalid index to scalar variable.",
          "traceback": [
            "\u001b[0;31m---------------------------------------------------------------------------\u001b[0m",
            "\u001b[0;31mIndexError\u001b[0m                                Traceback (most recent call last)",
            "\u001b[0;32m<ipython-input-9-35c37da0124d>\u001b[0m in \u001b[0;36m<cell line: 0>\u001b[0;34m()\u001b[0m\n\u001b[1;32m      1\u001b[0m \u001b[0;31m# z-0 y-0\u001b[0m\u001b[0;34m\u001b[0m\u001b[0;34m\u001b[0m\u001b[0m\n\u001b[0;32m----> 2\u001b[0;31m \u001b[0mprint\u001b[0m\u001b[0;34m(\u001b[0m\u001b[0;34m'(0,0,0)'\u001b[0m\u001b[0;34m,\u001b[0m\u001b[0marr\u001b[0m\u001b[0;34m[\u001b[0m\u001b[0;36m0\u001b[0m\u001b[0;34m]\u001b[0m\u001b[0;34m[\u001b[0m\u001b[0;36m0\u001b[0m\u001b[0;34m]\u001b[0m\u001b[0;34m[\u001b[0m\u001b[0;36m0\u001b[0m\u001b[0;34m]\u001b[0m\u001b[0;34m)\u001b[0m\u001b[0;34m\u001b[0m\u001b[0;34m\u001b[0m\u001b[0m\n\u001b[0m\u001b[1;32m      3\u001b[0m \u001b[0mprint\u001b[0m\u001b[0;34m(\u001b[0m\u001b[0;34m'(0,0,1)'\u001b[0m\u001b[0;34m,\u001b[0m\u001b[0marr\u001b[0m\u001b[0;34m[\u001b[0m\u001b[0;36m0\u001b[0m\u001b[0;34m]\u001b[0m\u001b[0;34m[\u001b[0m\u001b[0;36m0\u001b[0m\u001b[0;34m]\u001b[0m\u001b[0;34m[\u001b[0m\u001b[0;36m1\u001b[0m\u001b[0;34m]\u001b[0m\u001b[0;34m)\u001b[0m\u001b[0;34m\u001b[0m\u001b[0;34m\u001b[0m\u001b[0m\n\u001b[1;32m      4\u001b[0m \u001b[0mprint\u001b[0m\u001b[0;34m(\u001b[0m\u001b[0;34m'(0,0,2)'\u001b[0m\u001b[0;34m,\u001b[0m\u001b[0marr\u001b[0m\u001b[0;34m[\u001b[0m\u001b[0;36m0\u001b[0m\u001b[0;34m]\u001b[0m\u001b[0;34m[\u001b[0m\u001b[0;36m0\u001b[0m\u001b[0;34m]\u001b[0m\u001b[0;34m[\u001b[0m\u001b[0;36m2\u001b[0m\u001b[0;34m]\u001b[0m\u001b[0;34m)\u001b[0m\u001b[0;34m\u001b[0m\u001b[0;34m\u001b[0m\u001b[0m\n\u001b[1;32m      5\u001b[0m \u001b[0;34m\u001b[0m\u001b[0m\n",
            "\u001b[0;31mIndexError\u001b[0m: invalid index to scalar variable."
          ]
        }
      ]
    },
    {
      "cell_type": "code",
      "source": [
        "print(\"first and last row from 2-0\")\n",
        "print(arr[0,::2])\n",
        "\n",
        "print(arr[::2])\n",
        "\n",
        "print(arr[::2,1,::2])"
      ],
      "metadata": {
        "colab": {
          "base_uri": "https://localhost:8080/",
          "height": 245
        },
        "id": "q2aAxTwq-IEE",
        "outputId": "d58c8ffd-de06-4305-b7f2-bcd8dffcff2c"
      },
      "execution_count": null,
      "outputs": [
        {
          "output_type": "stream",
          "name": "stdout",
          "text": [
            "first and last row from 2-0\n",
            "[0 0 0]\n",
            "[[0 0 0 0 0]\n",
            " [0 4 5 6 0]]\n"
          ]
        },
        {
          "output_type": "error",
          "ename": "IndexError",
          "evalue": "too many indices for array: array is 2-dimensional, but 3 were indexed",
          "traceback": [
            "\u001b[0;31m---------------------------------------------------------------------------\u001b[0m",
            "\u001b[0;31mIndexError\u001b[0m                                Traceback (most recent call last)",
            "\u001b[0;32m<ipython-input-10-fa4ce85354ff>\u001b[0m in \u001b[0;36m<cell line: 0>\u001b[0;34m()\u001b[0m\n\u001b[1;32m      4\u001b[0m \u001b[0mprint\u001b[0m\u001b[0;34m(\u001b[0m\u001b[0marr\u001b[0m\u001b[0;34m[\u001b[0m\u001b[0;34m:\u001b[0m\u001b[0;34m:\u001b[0m\u001b[0;36m2\u001b[0m\u001b[0;34m]\u001b[0m\u001b[0;34m)\u001b[0m\u001b[0;34m\u001b[0m\u001b[0;34m\u001b[0m\u001b[0m\n\u001b[1;32m      5\u001b[0m \u001b[0;34m\u001b[0m\u001b[0m\n\u001b[0;32m----> 6\u001b[0;31m \u001b[0mprint\u001b[0m\u001b[0;34m(\u001b[0m\u001b[0marr\u001b[0m\u001b[0;34m[\u001b[0m\u001b[0;34m:\u001b[0m\u001b[0;34m:\u001b[0m\u001b[0;36m2\u001b[0m\u001b[0;34m,\u001b[0m\u001b[0;36m1\u001b[0m\u001b[0;34m,\u001b[0m\u001b[0;34m:\u001b[0m\u001b[0;34m:\u001b[0m\u001b[0;36m2\u001b[0m\u001b[0;34m]\u001b[0m\u001b[0;34m)\u001b[0m\u001b[0;34m\u001b[0m\u001b[0;34m\u001b[0m\u001b[0m\n\u001b[0m",
            "\u001b[0;31mIndexError\u001b[0m: too many indices for array: array is 2-dimensional, but 3 were indexed"
          ]
        }
      ]
    },
    {
      "cell_type": "code",
      "source": [
        "'''\n",
        "[[13,11],\n",
        "[19,17]]\n",
        "'''\n",
        "print(arr[1, ::2, ::-2] )\n",
        "\n",
        "arr = np.array([\n",
        "    [[1, 2, 3],\n",
        "     [4, 5, 6],\n",
        "     [7, 8, 9]],\n",
        "\n",
        "    [[11, 12, 13],\n",
        "     [14, 15, 16],\n",
        "     [17, 18, 19]],\n",
        "\n",
        "    [[21, 22, 23],\n",
        "     [24, 25, 26],\n",
        "     [27, 28, 29]]\n",
        "])\n",
        "\n",
        "print(arr)"
      ],
      "metadata": {
        "colab": {
          "base_uri": "https://localhost:8080/",
          "height": 211
        },
        "id": "aBvaVjnc-PjC",
        "outputId": "9575c4ad-c664-4b94-e87c-7d7e0b1b8b35"
      },
      "execution_count": null,
      "outputs": [
        {
          "output_type": "error",
          "ename": "IndexError",
          "evalue": "too many indices for array: array is 2-dimensional, but 3 were indexed",
          "traceback": [
            "\u001b[0;31m---------------------------------------------------------------------------\u001b[0m",
            "\u001b[0;31mIndexError\u001b[0m                                Traceback (most recent call last)",
            "\u001b[0;32m<ipython-input-11-0a6c4e1f5b25>\u001b[0m in \u001b[0;36m<cell line: 0>\u001b[0;34m()\u001b[0m\n\u001b[1;32m      3\u001b[0m [19,17]]\n\u001b[1;32m      4\u001b[0m '''\n\u001b[0;32m----> 5\u001b[0;31m \u001b[0mprint\u001b[0m\u001b[0;34m(\u001b[0m\u001b[0marr\u001b[0m\u001b[0;34m[\u001b[0m\u001b[0;36m1\u001b[0m\u001b[0;34m,\u001b[0m \u001b[0;34m:\u001b[0m\u001b[0;34m:\u001b[0m\u001b[0;36m2\u001b[0m\u001b[0;34m,\u001b[0m \u001b[0;34m:\u001b[0m\u001b[0;34m:\u001b[0m\u001b[0;34m-\u001b[0m\u001b[0;36m2\u001b[0m\u001b[0;34m]\u001b[0m \u001b[0;34m)\u001b[0m\u001b[0;34m\u001b[0m\u001b[0;34m\u001b[0m\u001b[0m\n\u001b[0m\u001b[1;32m      6\u001b[0m \u001b[0;34m\u001b[0m\u001b[0m\n\u001b[1;32m      7\u001b[0m arr = np.array([\n",
            "\u001b[0;31mIndexError\u001b[0m: too many indices for array: array is 2-dimensional, but 3 were indexed"
          ]
        }
      ]
    },
    {
      "cell_type": "code",
      "source": [
        "'''\n",
        "[[3,1]\n",
        "[9,7]]\n",
        "[[23 21]\n",
        "[29 27]]\n",
        "'''\n",
        "print(arr[::2,::2,::-2])\n",
        "\n"
      ],
      "metadata": {
        "id": "PvkbqPK8-Pt9"
      },
      "execution_count": null,
      "outputs": []
    },
    {
      "cell_type": "code",
      "source": [
        "'''\n",
        "[[23 21]\n",
        "[29 27]]\n",
        "[[3,1]\n",
        "[9,7]]\n",
        "'''\n",
        "print(arr[::-2,::2,::-2])"
      ],
      "metadata": {
        "id": "ED3DiSqK-VpM"
      },
      "execution_count": null,
      "outputs": []
    },
    {
      "cell_type": "code",
      "source": [
        "'''\n",
        "[[26 24]\n",
        "[6 4]]\n",
        "'''\n",
        "print(arr[::-2,1,::-2])"
      ],
      "metadata": {
        "id": "DwCAIpqv-Vsw"
      },
      "execution_count": null,
      "outputs": []
    },
    {
      "cell_type": "code",
      "source": [
        "arr=np.array([\n",
        "    [\n",
        "        [1,20,4],\n",
        "        [1,12,3],\n",
        "        [11,2,5],\n",
        "    ],\n",
        "    [\n",
        "        [1,20,4],\n",
        "        [1,12,3],\n",
        "        [11,2,5],\n",
        "    ]\n",
        "])\n",
        "\n",
        "print(arr)\n",
        "print(arr.ndim)"
      ],
      "metadata": {
        "id": "K20-FK7q-bjL"
      },
      "execution_count": null,
      "outputs": []
    },
    {
      "cell_type": "code",
      "source": [
        "arr=np.array([1,2,3,4])\n",
        "print(arr[3])\n",
        "print(arr[::2])\n",
        "print(arr[::-2])\n"
      ],
      "metadata": {
        "id": "5OFpXg1--bmo"
      },
      "execution_count": null,
      "outputs": []
    },
    {
      "cell_type": "code",
      "source": [
        "arr=np.array([[1,2,3],\n",
        "             [4,5,6]\n",
        "             ])\n",
        "print(arr[0])\n",
        "print(arr[1])\n",
        "print(arr[0][1])\n",
        "print(arr[1][2])"
      ],
      "metadata": {
        "id": "peUb50BS-byj"
      },
      "execution_count": null,
      "outputs": []
    },
    {
      "cell_type": "code",
      "source": [
        "print(arr[0][1:3])\n",
        "print(arr[1][1:3])\n",
        "print(arr[0][1:2])\n",
        "print(arr[1][1:2])\n",
        "\n",
        "print(arr[1][::2])\n",
        "print(arr[:,2])"
      ],
      "metadata": {
        "id": "iwcUne6c-i9v"
      },
      "execution_count": null,
      "outputs": []
    },
    {
      "cell_type": "code",
      "source": [
        "arr=np.array([\n",
        "                [1,2,3],\n",
        "                [4,5,6],\n",
        "                [11,20,23],\n",
        "                [14,56,68]\n",
        "\n",
        "])\n",
        "print(arr[[0, 3], [2, 2]])\n",
        "print(arr[::3,2])\n",
        "print(arr[0:2,1:3])\n"
      ],
      "metadata": {
        "id": "5_8bF5fV-jBR"
      },
      "execution_count": null,
      "outputs": []
    },
    {
      "cell_type": "code",
      "source": [
        "print(arr[2:4,::2])\n",
        "print(arr[1::2,::2])\n",
        "print(arr[::3,::-2])\n"
      ],
      "metadata": {
        "id": "weeCKMNX-obD"
      },
      "execution_count": null,
      "outputs": []
    },
    {
      "cell_type": "code",
      "source": [
        "arr=np.array([\n",
        "                [1,2,3],\n",
        "                [4,5,6],\n",
        "                [11,20,23],\n",
        "                [14,56,68]\n",
        "\n",
        "])\n",
        "\n",
        "\n",
        "'''\n",
        "[3 2 1]\n",
        "[6 5 4]\n",
        "[23 20 11]\n",
        "[68 56 14]\n",
        "'''\n",
        "'''\n",
        "[68 56 14]\n",
        "[23 20 11]\n",
        "[6 5 4]\n",
        "[3 2 1]\n",
        "'''"
      ],
      "metadata": {
        "id": "KxRRrEU7-od9"
      },
      "execution_count": null,
      "outputs": []
    },
    {
      "cell_type": "code",
      "source": [
        "#to get elements of multiple list or 1D arrays from a 2D array\n",
        "# we have to use arr[y_start_index:y_end_index:y_step,x_start_index:x_end_index:x_step] E.g: [::2,::2]\n",
        "# we can't use arr[y_start_index:y_end_index:y_step][x_start_index:x_end_index:x_step] E.g:[::2][::2]\n",
        "print(arr[:,::-1])"
      ],
      "metadata": {
        "id": "lXJSR3gd-ogF"
      },
      "execution_count": null,
      "outputs": []
    },
    {
      "cell_type": "code",
      "source": [
        "print(arr[::-1,::-1])"
      ],
      "metadata": {
        "id": "7ZLF4DQv-ojc"
      },
      "execution_count": null,
      "outputs": []
    },
    {
      "cell_type": "code",
      "source": [
        "arr=np.array([\n",
        "            [\n",
        "               [1,2,3],\n",
        "               [4,5,6]\n",
        "            ],\n",
        "            [\n",
        "                 [11,12,13],\n",
        "                 [14,15,16]\n",
        "            ],\n",
        "            [\n",
        "                 [21,22,23],\n",
        "                 [24,25,26]\n",
        "             ]\n",
        "])\n"
      ],
      "metadata": {
        "id": "DsGfQOOO-0qm"
      },
      "execution_count": null,
      "outputs": []
    },
    {
      "cell_type": "code",
      "source": [
        "print(arr[0])\n",
        "print(arr[1])\n",
        "print(arr[2])"
      ],
      "metadata": {
        "id": "G9xB7_vY-0uE"
      },
      "execution_count": null,
      "outputs": []
    },
    {
      "cell_type": "code",
      "source": [
        "print(arr[0][1])\n",
        "print(arr[1][1])\n",
        "print(arr[2][1])"
      ],
      "metadata": {
        "id": "AGIypTUb-_MK"
      },
      "execution_count": null,
      "outputs": []
    },
    {
      "cell_type": "code",
      "source": [
        "print(arr[:,:,:1])"
      ],
      "metadata": {
        "id": "Zhhe1e61-_O-"
      },
      "execution_count": null,
      "outputs": []
    },
    {
      "cell_type": "code",
      "source": [
        "print(arr[:,:,:1])"
      ],
      "metadata": {
        "id": "vnv9tagX-_Rq"
      },
      "execution_count": null,
      "outputs": []
    },
    {
      "cell_type": "code",
      "source": [
        "'''\n",
        "[26 25 24]\n",
        "[23 22 21]\n",
        "[16 15 14]\n",
        "[13 12 11]\n",
        "[6 5 4]\n",
        "[3 2 1]\n",
        "'''\n",
        "\n",
        "\n",
        "print(arr[::-1, ::-1, ::-1])"
      ],
      "metadata": {
        "id": "6oAJPdXw-_VF"
      },
      "execution_count": null,
      "outputs": []
    },
    {
      "cell_type": "code",
      "source": [
        "arr=np.array([\n",
        "            [\n",
        "               [1,2,3],\n",
        "               [4,5,6],\n",
        "               [7,8,9]\n",
        "            ],\n",
        "            [\n",
        "                 [11,12,13],\n",
        "                 [14,15,16],\n",
        "                 [17,18,19]\n",
        "            ],\n",
        "            [\n",
        "                 [21,22,23],\n",
        "                 [24,25,26],\n",
        "                 [27,28,29]\n",
        "             ]\n",
        "])\n",
        "'''\n",
        "[[[ 9  7]\n",
        "  [ 3  1]]\n",
        "\n",
        " [[29 27]\n",
        "  [23 21]]]\n",
        "'''\n",
        "\n",
        "print(arr[::2,::-2,::-2])\n",
        "\n",
        "print(arr[[1,2],[0,1],[0,2]])"
      ],
      "metadata": {
        "id": "L6-uBxBL_HrU"
      },
      "execution_count": null,
      "outputs": []
    },
    {
      "cell_type": "markdown",
      "source": [
        "12 feb"
      ],
      "metadata": {
        "id": "ouqtIljzxXP4"
      }
    },
    {
      "cell_type": "code",
      "source": [
        "# Check the given no by user is Kieth no or not\n",
        "# a natural number that appears in a sequence where each term is\n",
        "#the sum of the previous terms\n",
        "# 47  = 4 7 11 18 29 47  .....\n",
        "# 197 = 1 9 7 17 33 57 107 197 ...."
      ],
      "metadata": {
        "id": "zU30C7-KxaEu"
      },
      "execution_count": null,
      "outputs": []
    },
    {
      "cell_type": "code",
      "source": [
        "n=int(input(\"Enter the no: \"))\n",
        "temp=n\n",
        "count=0\n",
        "sum=0\n",
        "l=[]\n",
        "while n!=0:\n",
        "    rem=n%10\n",
        "    count+=1        # count of digit\n",
        "    n//=10\n",
        "    l.append(rem)   # list of digit\n",
        "l=l[::-1]           # reverse to get the digits in correct order\n",
        "print(l)\n",
        "print(count)\n",
        "\n",
        "while True:\n",
        "  l=l[-count:]      # last n element as the count of digits\n",
        "  s=0\n",
        "  for x in l:\n",
        "    s+=x            # sum of last n elements\n",
        "  if s>temp:\n",
        "    break           # break if sum is grester than that no if its kieth last will be that no else\n",
        "  l.append(s)\n",
        "\n",
        "if l[-1]==temp:\n",
        "  print(f\"{temp} is kieth no.\")\n",
        "else:\n",
        "  print(f\"{temp} is not kieth no.\")\n",
        "\n",
        "\n",
        "\n",
        "\n",
        "\n",
        "\n",
        "\n",
        "\n",
        "\n"
      ],
      "metadata": {
        "colab": {
          "base_uri": "https://localhost:8080/"
        },
        "id": "Pb7PdoFFxhrp",
        "outputId": "8cac49c6-8237-4df8-c3bd-375b3627dcf1"
      },
      "execution_count": null,
      "outputs": [
        {
          "output_type": "stream",
          "name": "stdout",
          "text": [
            "Enter the no: 5674\n",
            "[5, 6, 7, 4]\n",
            "4\n",
            "5674 is not kieth no.\n"
          ]
        }
      ]
    },
    {
      "cell_type": "markdown",
      "source": [
        "LCM"
      ],
      "metadata": {
        "id": "f-Wmef57_wVr"
      }
    },
    {
      "cell_type": "code",
      "source": [
        "import numpy as np\n",
        "\n",
        "n1=4\n",
        "n2=6\n",
        "\n",
        "x=np.lcm(n1,n2)\n",
        "x"
      ],
      "metadata": {
        "colab": {
          "base_uri": "https://localhost:8080/"
        },
        "id": "f3d1WdoK-lMP",
        "outputId": "8fde26de-5ad4-49bd-d80d-4ed2f63ebd52"
      },
      "execution_count": null,
      "outputs": [
        {
          "output_type": "execute_result",
          "data": {
            "text/plain": [
              "12"
            ]
          },
          "metadata": {},
          "execution_count": 13
        }
      ]
    },
    {
      "cell_type": "code",
      "source": [
        "arr=np.array([3,6,9])\n",
        "x=np.lcm.reduce(arr)\n",
        "x"
      ],
      "metadata": {
        "colab": {
          "base_uri": "https://localhost:8080/"
        },
        "id": "DxKBySGd_KG1",
        "outputId": "a0737acb-f750-4f65-c882-f7a066dcade8"
      },
      "execution_count": null,
      "outputs": [
        {
          "output_type": "execute_result",
          "data": {
            "text/plain": [
              "18"
            ]
          },
          "metadata": {},
          "execution_count": 14
        }
      ]
    },
    {
      "cell_type": "code",
      "source": [
        "arr=np.arange(1,11)\n",
        "x=np.lcm.reduce(arr)\n",
        "x"
      ],
      "metadata": {
        "colab": {
          "base_uri": "https://localhost:8080/"
        },
        "id": "2EufI782_cVi",
        "outputId": "91c3d326-a29a-49b6-a476-a76e7fe7aa88"
      },
      "execution_count": null,
      "outputs": [
        {
          "output_type": "execute_result",
          "data": {
            "text/plain": [
              "2520"
            ]
          },
          "metadata": {},
          "execution_count": 15
        }
      ]
    },
    {
      "cell_type": "markdown",
      "source": [
        "GCD"
      ],
      "metadata": {
        "id": "bzmC_7nT_yF3"
      }
    },
    {
      "cell_type": "code",
      "source": [
        "n1=9 #1,3\n",
        "n2=6 #1,2,3\n",
        "\n",
        "x=np.gcd(n1,n2)\n",
        "x"
      ],
      "metadata": {
        "colab": {
          "base_uri": "https://localhost:8080/"
        },
        "id": "pDhJudEF_rzB",
        "outputId": "91919f6f-9703-47dc-981f-807398bad365"
      },
      "execution_count": null,
      "outputs": [
        {
          "output_type": "execute_result",
          "data": {
            "text/plain": [
              "3"
            ]
          },
          "metadata": {},
          "execution_count": 16
        }
      ]
    },
    {
      "cell_type": "code",
      "source": [
        "arr=np.array([20,18,12])\n",
        "x=np.gcd.reduce(arr)\n",
        "x"
      ],
      "metadata": {
        "colab": {
          "base_uri": "https://localhost:8080/"
        },
        "id": "wTKXb8PaAISq",
        "outputId": "acc5c076-f357-4b37-b52d-6153d2105ad2"
      },
      "execution_count": null,
      "outputs": [
        {
          "output_type": "execute_result",
          "data": {
            "text/plain": [
              "2"
            ]
          },
          "metadata": {},
          "execution_count": 19
        }
      ]
    },
    {
      "cell_type": "code",
      "source": [
        "arr=np.arange(1,11)\n",
        "x=np.gcd.reduce(arr)\n",
        "x"
      ],
      "metadata": {
        "colab": {
          "base_uri": "https://localhost:8080/"
        },
        "id": "ipazIXfzAkPO",
        "outputId": "d6bc1d07-35cb-437d-f41a-3851c8188760"
      },
      "execution_count": null,
      "outputs": [
        {
          "output_type": "execute_result",
          "data": {
            "text/plain": [
              "1"
            ]
          },
          "metadata": {},
          "execution_count": 20
        }
      ]
    },
    {
      "cell_type": "markdown",
      "source": [
        "**Trignometric Func**"
      ],
      "metadata": {
        "id": "GTnetsEgAzaf"
      }
    },
    {
      "cell_type": "code",
      "source": [
        "x=np.sin(np.pi/2)\n",
        "x"
      ],
      "metadata": {
        "colab": {
          "base_uri": "https://localhost:8080/"
        },
        "id": "0ZR8I34MB4Hd",
        "outputId": "de5a0866-46b8-4369-d23c-acc56641f142"
      },
      "execution_count": null,
      "outputs": [
        {
          "output_type": "execute_result",
          "data": {
            "text/plain": [
              "1.0"
            ]
          },
          "metadata": {},
          "execution_count": 21
        }
      ]
    },
    {
      "cell_type": "code",
      "source": [
        "arr=np.array([np.pi,np.pi/2,(2*np.pi)])\n",
        "x=np.sin(arr)\n",
        "x"
      ],
      "metadata": {
        "colab": {
          "base_uri": "https://localhost:8080/"
        },
        "id": "1zQNFiIEAybd",
        "outputId": "9550b036-d2b0-4309-849a-e13e05bd41cc"
      },
      "execution_count": null,
      "outputs": [
        {
          "output_type": "execute_result",
          "data": {
            "text/plain": [
              "array([ 1.2246468e-16,  1.0000000e+00, -2.4492936e-16])"
            ]
          },
          "metadata": {},
          "execution_count": 22
        }
      ]
    },
    {
      "cell_type": "code",
      "source": [
        "arr=np.array([90,180,270,360])\n",
        "\n",
        "x=np.deg2rad(arr)\n",
        "\n",
        "x"
      ],
      "metadata": {
        "colab": {
          "base_uri": "https://localhost:8080/"
        },
        "id": "yg5GNM9XCjRr",
        "outputId": "2d4d23e2-cd26-4bf2-efdb-1721d406e375"
      },
      "execution_count": null,
      "outputs": [
        {
          "output_type": "execute_result",
          "data": {
            "text/plain": [
              "array([1.57079633, 3.14159265, 4.71238898, 6.28318531])"
            ]
          },
          "metadata": {},
          "execution_count": 23
        }
      ]
    },
    {
      "cell_type": "code",
      "source": [
        "arr=np.array([np.pi,np.pi/2,(2*np.pi)])\n",
        "\n",
        "x=np.rad2deg(arr)\n",
        "\n",
        "x"
      ],
      "metadata": {
        "colab": {
          "base_uri": "https://localhost:8080/"
        },
        "id": "OJh9U_HjCmwj",
        "outputId": "a268d92c-656e-415d-f8e8-fd0ade9a206c"
      },
      "execution_count": null,
      "outputs": [
        {
          "output_type": "execute_result",
          "data": {
            "text/plain": [
              "array([180.,  90., 360.])"
            ]
          },
          "metadata": {},
          "execution_count": 24
        }
      ]
    },
    {
      "cell_type": "code",
      "source": [
        "x=np.arcsin(1)\n",
        "\n",
        "x=np.rad2deg(x)\n",
        "\n",
        "x"
      ],
      "metadata": {
        "colab": {
          "base_uri": "https://localhost:8080/"
        },
        "id": "hzwn2iySCpVy",
        "outputId": "4e5e07ea-349c-415e-ec28-0c94d64816d6"
      },
      "execution_count": null,
      "outputs": [
        {
          "output_type": "execute_result",
          "data": {
            "text/plain": [
              "90.0"
            ]
          },
          "metadata": {},
          "execution_count": 25
        }
      ]
    },
    {
      "cell_type": "markdown",
      "source": [
        "Hypotenues"
      ],
      "metadata": {
        "id": "b80Y3X-UCwNs"
      }
    },
    {
      "cell_type": "code",
      "source": [
        "b=3\n",
        "p=4\n",
        "x=np.hypot(b,p)\n",
        "x"
      ],
      "metadata": {
        "colab": {
          "base_uri": "https://localhost:8080/"
        },
        "id": "DOeTJ125Cw4W",
        "outputId": "c3d3d637-df26-4a31-e93f-fd15ef6fd9c9"
      },
      "execution_count": null,
      "outputs": [
        {
          "output_type": "execute_result",
          "data": {
            "text/plain": [
              "5.0"
            ]
          },
          "metadata": {},
          "execution_count": 26
        }
      ]
    },
    {
      "cell_type": "markdown",
      "source": [
        "Own ufunc"
      ],
      "metadata": {
        "id": "F9_yDXIzDgcE"
      }
    },
    {
      "cell_type": "code",
      "source": [
        "def myadd(x,y):\n",
        "  return x+y\n",
        "madd=np.frompyfunc(myadd,2,1)\n",
        "print(madd([1,2,3,4],[5,6,7,8]))\n"
      ],
      "metadata": {
        "colab": {
          "base_uri": "https://localhost:8080/"
        },
        "id": "s2rlx75RDert",
        "outputId": "a77b4d42-0a27-451a-b029-10e6c72a07b7"
      },
      "execution_count": null,
      "outputs": [
        {
          "output_type": "stream",
          "name": "stdout",
          "text": [
            "[6 8 10 12]\n"
          ]
        }
      ]
    },
    {
      "cell_type": "code",
      "source": [
        "def mysub(x,y):\n",
        "  return x-y\n",
        "msub=np.frompyfunc(mysub,2,1)\n",
        "print(msub([1,2,3,4],[5,6,7,8]))"
      ],
      "metadata": {
        "colab": {
          "base_uri": "https://localhost:8080/"
        },
        "id": "CPxx1NEsEVoZ",
        "outputId": "61c31ba5-7d26-46ab-fa34-77ae6ab518c2"
      },
      "execution_count": null,
      "outputs": [
        {
          "output_type": "stream",
          "name": "stdout",
          "text": [
            "[-4 -4 -4 -4]\n"
          ]
        }
      ]
    },
    {
      "cell_type": "markdown",
      "source": [
        "Matrices in NumPy\n",
        "\n",
        "\n",
        "\n",
        " Definition  \n",
        "\n",
        "A matrix is a two-dimensional array in NumPy,\n",
        "\n",
        "represented as a collection of rows and columns.\n",
        "\n",
        "It is used for various mathematical operations\n",
        "\n",
        "like addition, subtraction, multiplication, and inversion.\n",
        "\n",
        "\n",
        "\n",
        " Creating Matrices  \n",
        "\n",
        "import numpy as np  \n",
        "\n",
        "\n",
        "\n",
        "arr = np.array([[1, 2, 3], [4, 5, 6], [7, 8, 9]])  \n",
        "\n",
        "print(arr)  \n",
        "\n",
        "\n",
        "\n",
        " Matrix Operations  \n",
        "\n",
        "\n",
        "\n",
        " Addition of Matrices  \n",
        "\n",
        "A = np.array([[1, 2], [3, 4]])  \n",
        "\n",
        "B = np.array([[5, 6], [7, 8]])  \n",
        "\n",
        "C = A + B  \n",
        "\n",
        "print(C)  \n",
        "\n",
        "\n",
        "\n",
        " Subtraction of Matrices  \n",
        "\n",
        "A = np.array([[10, 20], [30, 40]])  \n",
        "\n",
        "B = np.array([[1, 2], [3, 4]])  \n",
        "\n",
        "C = A - B  \n",
        "\n",
        "print(C)  \n",
        "\n",
        "\n",
        "\n",
        " Matrix Multiplication (Element-wise)  \n",
        "\n",
        "A = np.array([[1, 2], [3, 4]])  \n",
        "\n",
        "B = np.array([[2, 0], [1, 2]])  \n",
        "\n",
        "C = A * B  \n",
        "\n",
        "print(C)  \n",
        "\n",
        "\n",
        "\n",
        " Matrix Dot Product  \n",
        "\n",
        "A = np.array([[1, 2], [3, 4]])  \n",
        "\n",
        "B = np.array([[2, 0], [1, 2]])  \n",
        "\n",
        "C = np.dot(A, B)  \n",
        "\n",
        "print(C)  \n",
        "\n",
        "\n",
        "\n",
        " Matrix Transpose  \n",
        "\n",
        "A = np.array([[1, 2, 3], [4, 5, 6]])  \n",
        "\n",
        "B = A.T  \n",
        "\n",
        "print(B)\n",
        "\n",
        "Matrix Inversion  \n",
        "\n",
        "A = np.array([[1, 2], [3, 4]])  \n",
        "\n",
        "B = np.linalg.inv(A)  \n",
        "\n",
        "print(B)  \n",
        "\n",
        "\n",
        "\n",
        " Matrix Determinant  \n",
        "\n",
        "A = np.array([[2, 3], [1, 4]])  \n",
        "\n",
        "det = np.linalg.det(A)  \n",
        "\n",
        "print(det)  \n",
        "\n",
        "\n",
        "\n",
        " Eigenvalues and Eigenvectors  \n",
        "\n",
        "A = np.array([[4, -2], [1, 1]])  \n",
        "\n",
        "eigenvalues, eigenvectors = np.linalg.eig(A)  \n",
        "\n",
        "print(eigenvalues)  \n",
        "\n",
        "print(eigenvectors)  \n",
        "\n",
        "\n",
        "\n",
        " Applications of Matrices  \n",
        "\n",
        "- Image processing  \n",
        "\n",
        "- Data transformations  \n",
        "\n",
        "- Solving systems of linear equations  \n",
        "\n",
        "- Graph and network analysis"
      ],
      "metadata": {
        "id": "QkHiopzEErP9"
      }
    },
    {
      "cell_type": "code",
      "source": [
        "import numpy as np\n",
        "\n",
        "# Define a matrix\n",
        "matrix = np.array([[1, 2, 3], [4, 5, 6]])\n",
        "\n",
        "# Compute the transpose\n",
        "transpose_matrix = matrix.T\n",
        "print(transpose_matrix)"
      ],
      "metadata": {
        "colab": {
          "base_uri": "https://localhost:8080/"
        },
        "id": "uTbajHEfXhWz",
        "outputId": "c88cb37b-987e-46c9-d780-6fb8f8c2851c"
      },
      "execution_count": null,
      "outputs": [
        {
          "output_type": "stream",
          "name": "stdout",
          "text": [
            "[[1 4]\n",
            " [2 5]\n",
            " [3 6]]\n"
          ]
        }
      ]
    },
    {
      "cell_type": "markdown",
      "source": [
        "17 feb\n"
      ],
      "metadata": {
        "id": "G8UQuskpjLNV"
      }
    },
    {
      "cell_type": "code",
      "source": [
        "import numpy as np\n",
        "\n",
        "x=np.matrix([[1,2],[3,4]])\n",
        "y=np.matrix([[4,5],[6,7]])\n",
        "print(x)\n",
        "print()\n",
        "print(y)\n",
        "print(type(y))\n",
        "\n",
        "print(\"Addition\")\n",
        "print(x+y)\n",
        "\n",
        "print(\"Subtraction\")\n",
        "print(x+y)\n",
        "\n",
        "print(\"Multiplication\")\n",
        "print(x.dot(y)) # this is used for the matrix multiplication\n",
        "\n",
        "print(\"Division\")\n",
        "print(x/y)\n"
      ],
      "metadata": {
        "colab": {
          "base_uri": "https://localhost:8080/"
        },
        "id": "CcEfXrFRtW6E",
        "outputId": "8057ca29-79cc-46d6-ce00-200215bc4f1f"
      },
      "execution_count": null,
      "outputs": [
        {
          "output_type": "stream",
          "name": "stdout",
          "text": [
            "[[1 2]\n",
            " [3 4]]\n",
            "\n",
            "[[4 5]\n",
            " [6 7]]\n",
            "<class 'numpy.matrix'>\n",
            "Addition\n",
            "[[ 5  7]\n",
            " [ 9 11]]\n",
            "Subtraction\n",
            "[[ 5  7]\n",
            " [ 9 11]]\n",
            "Multiplication\n",
            "[[16 19]\n",
            " [36 43]]\n",
            "Division\n",
            "[[0.25       0.4       ]\n",
            " [0.5        0.57142857]]\n"
          ]
        }
      ]
    },
    {
      "cell_type": "code",
      "source": [
        "# transpose of matrix\n",
        "x=np.matrix([[1,2,3],[4,5,6],[7,8,9]])\n",
        "print(\"Original Matrix\")\n",
        "print(x)\n",
        "print(\"Transpose Matrix\")\n",
        "print(np.transpose(x))"
      ],
      "metadata": {
        "colab": {
          "base_uri": "https://localhost:8080/"
        },
        "id": "BKNxRJFRu_Q8",
        "outputId": "50ace569-0714-4483-b5cb-385b846dea02"
      },
      "execution_count": null,
      "outputs": [
        {
          "output_type": "stream",
          "name": "stdout",
          "text": [
            "Original Matrix\n",
            "[[1 2 3]\n",
            " [4 5 6]\n",
            " [7 8 9]]\n",
            "Transpose Matrix\n",
            "[[1 4 7]\n",
            " [2 5 8]\n",
            " [3 6 9]]\n"
          ]
        }
      ]
    },
    {
      "cell_type": "code",
      "source": [
        "# create 8x8 matrix and print the center of that matrix of size 4x4\n",
        "\n",
        "x=np.ones((8,8),dtype=int)\n",
        "print(x)\n",
        "print(x[2:6,2:6])"
      ],
      "metadata": {
        "colab": {
          "base_uri": "https://localhost:8080/"
        },
        "id": "qZUa4kHRwR_y",
        "outputId": "829b482a-565a-46ac-ffbc-c83336ce543f"
      },
      "execution_count": null,
      "outputs": [
        {
          "output_type": "stream",
          "name": "stdout",
          "text": [
            "[[1 1 1 1 1 1 1 1]\n",
            " [1 1 1 1 1 1 1 1]\n",
            " [1 1 1 1 1 1 1 1]\n",
            " [1 1 1 1 1 1 1 1]\n",
            " [1 1 1 1 1 1 1 1]\n",
            " [1 1 1 1 1 1 1 1]\n",
            " [1 1 1 1 1 1 1 1]\n",
            " [1 1 1 1 1 1 1 1]]\n",
            "[[1 1 1 1]\n",
            " [1 1 1 1]\n",
            " [1 1 1 1]\n",
            " [1 1 1 1]]\n"
          ]
        }
      ]
    },
    {
      "cell_type": "code",
      "source": [
        "# create 8x8 matrix and print the center of that matrix of size 4x4\n",
        "x=np.matrix(np.arange(1,65).reshape(8,8))\n",
        "print(x)\n",
        "print(x[2:6,2:6])"
      ],
      "metadata": {
        "colab": {
          "base_uri": "https://localhost:8080/"
        },
        "id": "Pu4U5xcOxdYg",
        "outputId": "ff0be364-8c60-4c6e-9970-bf68bc3595ee"
      },
      "execution_count": null,
      "outputs": [
        {
          "output_type": "stream",
          "name": "stdout",
          "text": [
            "[[ 1  2  3  4  5  6  7  8]\n",
            " [ 9 10 11 12 13 14 15 16]\n",
            " [17 18 19 20 21 22 23 24]\n",
            " [25 26 27 28 29 30 31 32]\n",
            " [33 34 35 36 37 38 39 40]\n",
            " [41 42 43 44 45 46 47 48]\n",
            " [49 50 51 52 53 54 55 56]\n",
            " [57 58 59 60 61 62 63 64]]\n",
            "[[19 20 21 22]\n",
            " [27 28 29 30]\n",
            " [35 36 37 38]\n",
            " [43 44 45 46]]\n"
          ]
        }
      ]
    },
    {
      "cell_type": "markdown",
      "source": [
        "18 feb\n"
      ],
      "metadata": {
        "id": "q052xFeSjPRc"
      }
    },
    {
      "cell_type": "code",
      "source": [
        "# 1. Use np.zeros to create a 3x4 matrix of zeros and then replace the elements of the second row with ones. Print the updated matrix.\n",
        "\n",
        "# 2. Create a 3D array of shape (2, 3, 4) filled with ones using np.ones. Then change the last column of each 2D sub-array to zeros and print the result.\n",
        "\n",
        "# 3. Create a 5x5 identity matrix using np.eye. Multiply the elements in the diagonal by 3 and print the final matrix.\n",
        "\n",
        "# 4. Using np.random.random, generate a 4x4 array of random float numbers between 0 and 1. Then replace all values greater than 0.5 with 1, and values less than or equal to 0.5 with 0. Print the modified array.\n",
        "\n",
        "# 5. Generate 20 evenly spaced numbers between 0 and 100 using np.linspace. Then reshape the resulting array into a 4x5 matrix and print both the original and reshaped arrays.\n",
        "\n",
        "# 6. Create a 3x3 array of random integers between 1 and 50 using np.random.randint. Use np.nditer to iterate over the array and print only the odd numbers.\n",
        "\n",
        "# 7. Using np.ndenumerate, create a 4x3 array of random integers and print each element along with its index in the format index: element.\n",
        "\n",
        "# 8. Generate a 1D array of 50 evenly spaced values between -10 and 10 using np.linspace. Reshape the array into a 5x10 matrix and use np.nditer to iterate over it. Print only the elements whose absolute value is greater than 5.\n",
        "\n",
        "# 9. Using np.eye, create a 6x6 identity matrix. Then, with the help of np.ndenumerate, modify every even-indexed diagonal element by multiplying it by 2 and print the final matrix.\n",
        "\n",
        "# 10. Create two random 3x3 matrices using np.random.random. Use np.nditer to iterate over both arrays simultaneously, print the corresponding elements from both matrices where the first matrix element is larger than the second matrix element."
      ],
      "metadata": {
        "id": "sVpSWmUWjRnM"
      },
      "execution_count": null,
      "outputs": []
    },
    {
      "cell_type": "code",
      "source": [
        "# 1. Use np.zeros to create a 3x4 matrix of zeros and then replace the elements of the second row with ones. Print the updated matrix.\n",
        "\n",
        "import numpy as np\n",
        "\n",
        "x=np.zeros((3,4))\n",
        "print(x)\n",
        "x[1]=1\n",
        "print(\"After change\")\n",
        "print(x)"
      ],
      "metadata": {
        "colab": {
          "base_uri": "https://localhost:8080/"
        },
        "id": "8X86DgSvjbmz",
        "outputId": "f5356095-5f4f-4ed4-b139-3f37542aecd6"
      },
      "execution_count": null,
      "outputs": [
        {
          "output_type": "stream",
          "name": "stdout",
          "text": [
            "[[0. 0. 0. 0.]\n",
            " [0. 0. 0. 0.]\n",
            " [0. 0. 0. 0.]]\n",
            "After change\n",
            "[[0. 0. 0. 0.]\n",
            " [1. 1. 1. 1.]\n",
            " [0. 0. 0. 0.]]\n"
          ]
        }
      ]
    },
    {
      "cell_type": "code",
      "source": [
        "# 2. Create a 3D array of shape (2, 3, 4) filled with ones using np.ones. Then change the last column\n",
        "# of each 2D sub-array to zeros and print the result."
      ],
      "metadata": {
        "id": "n9JRu37okW8l"
      },
      "execution_count": null,
      "outputs": []
    },
    {
      "cell_type": "code",
      "source": [
        "arr=np.ones((2,3,4))\n",
        "print(arr)\n",
        "print(\"After change\")\n",
        "arr[:,:,-1]=0\n",
        "print(arr)"
      ],
      "metadata": {
        "colab": {
          "base_uri": "https://localhost:8080/"
        },
        "id": "qjjThD3fkSrZ",
        "outputId": "8eb44f20-4fed-40f7-f856-fccfcbc74247"
      },
      "execution_count": null,
      "outputs": [
        {
          "output_type": "stream",
          "name": "stdout",
          "text": [
            "[[[1. 1. 1. 1.]\n",
            "  [1. 1. 1. 1.]\n",
            "  [1. 1. 1. 1.]]\n",
            "\n",
            " [[1. 1. 1. 1.]\n",
            "  [1. 1. 1. 1.]\n",
            "  [1. 1. 1. 1.]]]\n",
            "After change\n",
            "[[[1. 1. 1. 0.]\n",
            "  [1. 1. 1. 0.]\n",
            "  [1. 1. 1. 0.]]\n",
            "\n",
            " [[1. 1. 1. 0.]\n",
            "  [1. 1. 1. 0.]\n",
            "  [1. 1. 1. 0.]]]\n"
          ]
        }
      ]
    },
    {
      "cell_type": "code",
      "source": [
        "# 3. Create a 5x5 identity matrix using np.eye. Multiply the elements in the diagonal\n",
        "# by 3 and print the final matrix.\n",
        "\n",
        "x=np.eye(5)\n",
        "print(x)\n",
        "print(\"After change\")\n",
        "x=x*3\n",
        "print(x)"
      ],
      "metadata": {
        "colab": {
          "base_uri": "https://localhost:8080/"
        },
        "id": "1Wu8klcilheO",
        "outputId": "774ed3d0-eb7c-47de-ce49-deeac7a0af19"
      },
      "execution_count": null,
      "outputs": [
        {
          "output_type": "stream",
          "name": "stdout",
          "text": [
            "[[1. 0. 0. 0. 0.]\n",
            " [0. 1. 0. 0. 0.]\n",
            " [0. 0. 1. 0. 0.]\n",
            " [0. 0. 0. 1. 0.]\n",
            " [0. 0. 0. 0. 1.]]\n",
            "After change\n",
            "[[3. 0. 0. 0. 0.]\n",
            " [0. 3. 0. 0. 0.]\n",
            " [0. 0. 3. 0. 0.]\n",
            " [0. 0. 0. 3. 0.]\n",
            " [0. 0. 0. 0. 3.]]\n"
          ]
        }
      ]
    },
    {
      "cell_type": "code",
      "source": [
        " #4. Using np.random.random, generate a 4x4 array of random float numbers between 0 and 1.\n",
        " # Then replace all values greater than 0.5 with 1, and values less than or equal to 0.5 with 0. Print the modified array.\n",
        "\n",
        " arr=np.random.random((4,4))\n",
        " print(arr)\n",
        " print(\"After Change\")\n",
        " arr[arr>0.5]=1\n",
        " arr[arr<=0.5]=0\n",
        " print(arr)"
      ],
      "metadata": {
        "colab": {
          "base_uri": "https://localhost:8080/"
        },
        "id": "-_-gDjilmFXn",
        "outputId": "918f35c6-2ab0-4caa-f9d8-f94ae9910b67"
      },
      "execution_count": null,
      "outputs": [
        {
          "output_type": "stream",
          "name": "stdout",
          "text": [
            "[[0.71358353 0.19455467 0.05231743 0.83974397]\n",
            " [0.80075933 0.22215938 0.93683796 0.74743125]\n",
            " [0.01525812 0.14177829 0.61792784 0.42079424]\n",
            " [0.99257134 0.88500412 0.99436637 0.65618144]]\n",
            "After Change\n",
            "[[1. 0. 0. 1.]\n",
            " [1. 0. 1. 1.]\n",
            " [0. 0. 1. 0.]\n",
            " [1. 1. 1. 1.]]\n"
          ]
        }
      ]
    },
    {
      "cell_type": "code",
      "source": [
        "# 5. Generate 20 evenly spaced numbers between 0 and 100 using np.linspace. Then reshape the resulting array into a 4x5 matrix and\n",
        "#print both the original and reshaped arrays.\n",
        "# arr=np.linspace(0,100,20)\n",
        "# print(arr)\n",
        "# x=arr.reshape(4,5)\n",
        "# print(\"after change\\n\",x)\n",
        "\n",
        "\n",
        "# Generate 20 evenly spaced numbers between 0 and 100\n",
        "arr = np.linspace(0, 100, 20)\n",
        "print(\"Original array:\\n\", arr)\n",
        "\n",
        "# Reshape the array into a 4x5 matrix\n",
        "reshaped_arr = arr.reshape(4, 5)\n",
        "print(\"Reshaped array:\\n\", reshaped_arr)\n",
        "\n"
      ],
      "metadata": {
        "colab": {
          "base_uri": "https://localhost:8080/"
        },
        "id": "DhdGEo4Mnl2o",
        "outputId": "e22349e9-4a67-4cd9-ef12-af85e7e7da21"
      },
      "execution_count": null,
      "outputs": [
        {
          "output_type": "stream",
          "name": "stdout",
          "text": [
            "Original array:\n",
            " [  0.           5.26315789  10.52631579  15.78947368  21.05263158\n",
            "  26.31578947  31.57894737  36.84210526  42.10526316  47.36842105\n",
            "  52.63157895  57.89473684  63.15789474  68.42105263  73.68421053\n",
            "  78.94736842  84.21052632  89.47368421  94.73684211 100.        ]\n",
            "Reshaped array:\n",
            " [[  0.           5.26315789  10.52631579  15.78947368  21.05263158]\n",
            " [ 26.31578947  31.57894737  36.84210526  42.10526316  47.36842105]\n",
            " [ 52.63157895  57.89473684  63.15789474  68.42105263  73.68421053]\n",
            " [ 78.94736842  84.21052632  89.47368421  94.73684211 100.        ]]\n"
          ]
        }
      ]
    },
    {
      "cell_type": "code",
      "source": [
        "# 6. Create a 3x3 array of random integers between 1 and 50 using np.random.randint. Use np.nditer\n",
        "# to iterate over the array and print only the odd numbers.\n",
        "arr=np.random.randint(1,50,(3,3))\n",
        "print(arr)\n",
        "print(\"After change\")\n",
        "for x in np.nditer(arr):\n",
        "  if x%2!=0:\n",
        "    print(x)"
      ],
      "metadata": {
        "colab": {
          "base_uri": "https://localhost:8080/"
        },
        "id": "6qwnDEigp73I",
        "outputId": "e21f6cbf-ac4b-43b6-8d74-7cdb2c2ef99c"
      },
      "execution_count": null,
      "outputs": [
        {
          "output_type": "stream",
          "name": "stdout",
          "text": [
            "[[28 44 24]\n",
            " [33  7 43]\n",
            " [11 35 35]]\n",
            "After change\n",
            "33\n",
            "7\n",
            "43\n",
            "11\n",
            "35\n",
            "35\n"
          ]
        }
      ]
    },
    {
      "cell_type": "code",
      "source": [
        "# 7. Using np.ndenumerate, create a 4x3 array of random integers and print each element along with\n",
        "#its index in the format index: element.\n",
        "arr=np.random.randint(1,50,(4,3))\n",
        "print(arr)\n",
        "print(\"After change\")\n",
        "for x in np.ndenumerate(arr):\n",
        "  print(x)\n"
      ],
      "metadata": {
        "colab": {
          "base_uri": "https://localhost:8080/"
        },
        "id": "Fk_zjbjIrlcP",
        "outputId": "17a207ea-c3c6-4f17-90c9-acaddae827a3"
      },
      "execution_count": null,
      "outputs": [
        {
          "output_type": "stream",
          "name": "stdout",
          "text": [
            "[[18  7 36]\n",
            " [35  4 45]\n",
            " [49  1 19]\n",
            " [26 20 38]]\n",
            "After change\n",
            "((0, 0), 18)\n",
            "((0, 1), 7)\n",
            "((0, 2), 36)\n",
            "((1, 0), 35)\n",
            "((1, 1), 4)\n",
            "((1, 2), 45)\n",
            "((2, 0), 49)\n",
            "((2, 1), 1)\n",
            "((2, 2), 19)\n",
            "((3, 0), 26)\n",
            "((3, 1), 20)\n",
            "((3, 2), 38)\n"
          ]
        }
      ]
    },
    {
      "cell_type": "code",
      "source": [
        "\n",
        "# 8. Generate a 1D array of 50 evenly spaced values between -10 and 10 using np.linspace. Reshape the array into a\n",
        "# 5x10 matrix and use np.nditer to iterate over it.\n",
        "#Print only the elements whose absolute value is greater than 5.\n",
        "arr=np.linspace(-10,10,50).reshape(5,10)\n",
        "print(arr)\n",
        "for i in np.nditer(arr):\n",
        "  if abs(i)>5:\n",
        "    print(i)\n"
      ],
      "metadata": {
        "colab": {
          "base_uri": "https://localhost:8080/"
        },
        "id": "SL0FFFfxr78S",
        "outputId": "fa38b90c-6fe2-442b-a692-0dc1187b9923"
      },
      "execution_count": null,
      "outputs": [
        {
          "output_type": "stream",
          "name": "stdout",
          "text": [
            "[[-10.          -9.59183673  -9.18367347  -8.7755102   -8.36734694\n",
            "   -7.95918367  -7.55102041  -7.14285714  -6.73469388  -6.32653061]\n",
            " [ -5.91836735  -5.51020408  -5.10204082  -4.69387755  -4.28571429\n",
            "   -3.87755102  -3.46938776  -3.06122449  -2.65306122  -2.24489796]\n",
            " [ -1.83673469  -1.42857143  -1.02040816  -0.6122449   -0.20408163\n",
            "    0.20408163   0.6122449    1.02040816   1.42857143   1.83673469]\n",
            " [  2.24489796   2.65306122   3.06122449   3.46938776   3.87755102\n",
            "    4.28571429   4.69387755   5.10204082   5.51020408   5.91836735]\n",
            " [  6.32653061   6.73469388   7.14285714   7.55102041   7.95918367\n",
            "    8.36734694   8.7755102    9.18367347   9.59183673  10.        ]]\n",
            "-10.0\n",
            "-9.591836734693878\n",
            "-9.183673469387756\n",
            "-8.775510204081632\n",
            "-8.36734693877551\n",
            "-7.959183673469388\n",
            "-7.551020408163265\n",
            "-7.142857142857142\n",
            "-6.73469387755102\n",
            "-6.326530612244898\n",
            "-5.918367346938775\n",
            "-5.5102040816326525\n",
            "-5.1020408163265305\n",
            "5.1020408163265305\n",
            "5.510204081632654\n",
            "5.918367346938776\n",
            "6.326530612244898\n",
            "6.73469387755102\n",
            "7.142857142857142\n",
            "7.551020408163264\n",
            "7.95918367346939\n",
            "8.367346938775512\n",
            "8.775510204081634\n",
            "9.183673469387756\n",
            "9.591836734693878\n",
            "10.0\n"
          ]
        }
      ]
    },
    {
      "cell_type": "code",
      "source": [
        "# 9. Using np.eye, create a 6x6 identity matrix. Then, with the help of np.ndenumerate,\n",
        "#modify every even-indexed diagonal element by multiplying it by 2 and print the final matrix.\n",
        "\n",
        "arr=np.eye(6,6)\n",
        "print(arr)\n",
        "\n",
        "for index,elements in np.ndenumerate(arr):\n",
        "  if index[0]%2==0 and index[1]%2==0:\n",
        "    arr[index]=elements*2\n",
        "print(\"After change\")\n",
        "print(arr)\n",
        "\n"
      ],
      "metadata": {
        "colab": {
          "base_uri": "https://localhost:8080/"
        },
        "id": "C2P-6O0fs8EJ",
        "outputId": "2d7298ad-9808-4039-9034-95970e0fd025"
      },
      "execution_count": null,
      "outputs": [
        {
          "output_type": "stream",
          "name": "stdout",
          "text": [
            "[[1. 0. 0. 0. 0. 0.]\n",
            " [0. 1. 0. 0. 0. 0.]\n",
            " [0. 0. 1. 0. 0. 0.]\n",
            " [0. 0. 0. 1. 0. 0.]\n",
            " [0. 0. 0. 0. 1. 0.]\n",
            " [0. 0. 0. 0. 0. 1.]]\n",
            "After change\n",
            "[[2. 0. 0. 0. 0. 0.]\n",
            " [0. 1. 0. 0. 0. 0.]\n",
            " [0. 0. 2. 0. 0. 0.]\n",
            " [0. 0. 0. 1. 0. 0.]\n",
            " [0. 0. 0. 0. 2. 0.]\n",
            " [0. 0. 0. 0. 0. 1.]]\n"
          ]
        }
      ]
    },
    {
      "cell_type": "code",
      "source": [
        "\n",
        "# 10. Create two random 3x3 matrices using np.random.random. Use np.nditer to iterate over both arrays simultaneously,\n",
        "#print the corresponding elements from both matrices where the first matrix element is larger than the second matrix element.\n",
        "x=np.random.random((3,3))\n",
        "y=np.random.random((3,3))\n",
        "print(x)\n",
        "print(y)\n",
        "for i,j in np.nditer([x,y]):\n",
        "  if i>j:\n",
        "    print(i,j)"
      ],
      "metadata": {
        "colab": {
          "base_uri": "https://localhost:8080/"
        },
        "id": "fRybQSu5tWcx",
        "outputId": "25ac38f5-14af-4e2a-c62f-f9d3db4db992"
      },
      "execution_count": null,
      "outputs": [
        {
          "output_type": "stream",
          "name": "stdout",
          "text": [
            "[[0.12645118 0.46277895 0.11764529]\n",
            " [0.04874264 0.45368124 0.15129367]\n",
            " [0.12562822 0.86418857 0.99138486]]\n",
            "[[0.6549619  0.01803179 0.0972021 ]\n",
            " [0.04369392 0.83229299 0.66828259]\n",
            " [0.59182954 0.71284526 0.33783011]]\n",
            "0.46277894913243567 0.018031785096154218\n",
            "0.11764528673287722 0.09720209610760744\n",
            "0.04874263810625634 0.04369391909869513\n",
            "0.8641885656871036 0.7128452560024242\n",
            "0.9913848566335186 0.3378301091394096\n"
          ]
        }
      ]
    },
    {
      "cell_type": "code",
      "source": [
        "# 1. Use np.zeros to create a 3x3 matrix of zeros. Then replace the diagonal elements with the values [1, 2, 3] and print the final matrix.\n",
        "\n",
        "# 2. Create a 4x4 array filled with ones using np.ones. Multiply every element in the array by 5 and print the updated array.\n",
        "\n",
        "# 3. Create a 5x5 identity matrix using np.eye. Then, add 2 to all the elements of the matrix and print the final result.\n",
        "\n",
        "# 4. Generate a 3x3 array of random float numbers between 0 and 1 using np.random.random. Replace all values greater than 0.7 with 0.7 and print both the original and modified arrays.\n",
        "\n",
        "# 5. Use np.linspace to generate 15 evenly spaced numbers between 0 and 50. Reshape the array into a 3x5 matrix, and print both the original 1D array and the reshaped 2D matrix.\n",
        "\n",
        "# 6. Create a 3x3 array of random integers between 1 and 20 using np.random.randint. Iterate over the array using np.nditer and print only the even numbers.\n",
        "\n",
        "# 7. Using np.ndenumerate, create a 4x4 matrix of random integers between 10 and 50, and for each element, print the index and value if the value is divisible by 5.\n",
        "\n",
        "# 8. Generate a 1D array of 20 evenly spaced values between -5 and 5 using np.linspace. Reshape the array into a 4x5 matrix and use np.nditer to print each element that is negative.\n",
        "\n",
        "# 9. Create a 3x3 identity matrix using np.eye, and then with the help of np.ndenumerate, print the index and value of each diagonal element.\n",
        "\n",
        "# 10. Create two 2x2 arrays of random integers between 1 and 10 using np.random.randint. Use np.nditer to iterate over both arrays simultaneously and print the corresponding elements where the first array's element is greater than the second array's element."
      ],
      "metadata": {
        "id": "6DakPQY7wKY4"
      },
      "execution_count": null,
      "outputs": []
    },
    {
      "cell_type": "code",
      "source": [
        "# 1. Use np.zeros to create a 3x3 matrix of zeros. Then replace the diagonal elements with the values [1, 2, 3] and print the final matrix.\n",
        "x=np.zeros((3,3))\n",
        "print(x)\n",
        "x[0,0]=1\n",
        "x[1,1]=2\n",
        "x[2,2]=3\n",
        "print(\"After change \\n\",x)"
      ],
      "metadata": {
        "colab": {
          "base_uri": "https://localhost:8080/"
        },
        "id": "tGDuv-BKwY5O",
        "outputId": "abb323cd-5fb9-4a67-820d-ee0fb04c32a6"
      },
      "execution_count": null,
      "outputs": [
        {
          "output_type": "stream",
          "name": "stdout",
          "text": [
            "[[0. 0. 0.]\n",
            " [0. 0. 0.]\n",
            " [0. 0. 0.]]\n",
            "After change \n",
            " [[1. 0. 0.]\n",
            " [0. 2. 0.]\n",
            " [0. 0. 3.]]\n"
          ]
        }
      ]
    },
    {
      "cell_type": "code",
      "source": [
        "# 2. Create a 4x4 array filled with ones using np.ones. Multiply every element in the array by 5 and print the updated array.\n",
        "\n",
        "x=np.ones((4,4))\n",
        "print(x)\n",
        "print(\"Ater change\")\n",
        "print(x.dot(5))"
      ],
      "metadata": {
        "colab": {
          "base_uri": "https://localhost:8080/"
        },
        "id": "GBRVbRNjxeEb",
        "outputId": "102fa8d1-a50e-4ec2-b663-63f0675bd261"
      },
      "execution_count": null,
      "outputs": [
        {
          "output_type": "stream",
          "name": "stdout",
          "text": [
            "[[1. 1. 1. 1.]\n",
            " [1. 1. 1. 1.]\n",
            " [1. 1. 1. 1.]\n",
            " [1. 1. 1. 1.]]\n",
            "[[5. 5. 5. 5.]\n",
            " [5. 5. 5. 5.]\n",
            " [5. 5. 5. 5.]\n",
            " [5. 5. 5. 5.]]\n"
          ]
        }
      ]
    },
    {
      "cell_type": "code",
      "source": [
        "# 3. Create a 5x5 identity matrix using np.eye. Then, add 2 to all the elements of the matrix and print the final result.\n",
        "x=np.eye(5)\n",
        "print(x)\n",
        "print(\"After change\")\n",
        "print(x+2)"
      ],
      "metadata": {
        "colab": {
          "base_uri": "https://localhost:8080/"
        },
        "id": "SPJ22h69yPoo",
        "outputId": "c791683d-fd73-43f3-a22f-966d64517792"
      },
      "execution_count": null,
      "outputs": [
        {
          "output_type": "stream",
          "name": "stdout",
          "text": [
            "[[1. 0. 0. 0. 0.]\n",
            " [0. 1. 0. 0. 0.]\n",
            " [0. 0. 1. 0. 0.]\n",
            " [0. 0. 0. 1. 0.]\n",
            " [0. 0. 0. 0. 1.]]\n",
            "After change\n",
            "[[3. 2. 2. 2. 2.]\n",
            " [2. 3. 2. 2. 2.]\n",
            " [2. 2. 3. 2. 2.]\n",
            " [2. 2. 2. 3. 2.]\n",
            " [2. 2. 2. 2. 3.]]\n"
          ]
        }
      ]
    },
    {
      "cell_type": "code",
      "source": [
        "# 4. Generate a 3x3 array of random float numbers between 0 and 1 using np.random.random. Replace all values greater than 0.7 with 0.7 and print both the original and modified arrays.\n",
        "arr=np.random.random((3,3))\n",
        "print(arr)\n",
        "print(\"After change\")\n",
        "arr[arr>0.7]=0.7\n",
        "print(arr)"
      ],
      "metadata": {
        "colab": {
          "base_uri": "https://localhost:8080/"
        },
        "id": "WyPFWXbKyPb1",
        "outputId": "c5654e89-57b5-4ba6-d814-4655d97fad65"
      },
      "execution_count": null,
      "outputs": [
        {
          "output_type": "stream",
          "name": "stdout",
          "text": [
            "[[0.15077942 0.2850571  0.03606263]\n",
            " [0.08378062 0.83890924 0.98285397]\n",
            " [0.92512626 0.01793926 0.82878921]]\n",
            "After change\n",
            "[[0.15077942 0.2850571  0.03606263]\n",
            " [0.08378062 0.7        0.7       ]\n",
            " [0.7        0.01793926 0.7       ]]\n"
          ]
        }
      ]
    },
    {
      "cell_type": "code",
      "source": [
        "# 5. Use np.linspace to generate 15 evenly spaced numbers between 0 and 50. Reshape the array into a 3x5 matrix,\n",
        "# and print both the original 1D array and the reshaped 2D matrix.\n",
        "arr=np.linspace(0,15,15)\n",
        "print(arr)\n",
        "arr.reshape(3,5)\n",
        "print(\"After change\")\n",
        "print(arr)\n"
      ],
      "metadata": {
        "colab": {
          "base_uri": "https://localhost:8080/"
        },
        "id": "XilNiJyzyziB",
        "outputId": "6990a947-7489-4a46-9361-7b1fb7545bb2"
      },
      "execution_count": null,
      "outputs": [
        {
          "output_type": "stream",
          "name": "stdout",
          "text": [
            "[ 0.          1.07142857  2.14285714  3.21428571  4.28571429  5.35714286\n",
            "  6.42857143  7.5         8.57142857  9.64285714 10.71428571 11.78571429\n",
            " 12.85714286 13.92857143 15.        ]\n",
            "After change\n",
            "[ 0.          1.07142857  2.14285714  3.21428571  4.28571429  5.35714286\n",
            "  6.42857143  7.5         8.57142857  9.64285714 10.71428571 11.78571429\n",
            " 12.85714286 13.92857143 15.        ]\n"
          ]
        }
      ]
    },
    {
      "cell_type": "code",
      "source": [
        "# 6. Create a 3x3 array of random integers between 1 and 20 using np.random.randint. Iterate over the array using np.nditer and print only the even numbers.\n",
        "\n",
        "x=np.random.randint(1,20,(3,3))\n",
        "print(x)\n",
        "print(\"After change\")\n",
        "for i in np.nditer(x):\n",
        "  if i%2==0:\n",
        "    print(i)\n"
      ],
      "metadata": {
        "colab": {
          "base_uri": "https://localhost:8080/"
        },
        "id": "r_29YYiWyzFO",
        "outputId": "180e908a-4863-4e47-d8cc-a37ee7867615"
      },
      "execution_count": null,
      "outputs": [
        {
          "output_type": "stream",
          "name": "stdout",
          "text": [
            "[[16 13 17]\n",
            " [ 3  3 15]\n",
            " [ 6  6 15]]\n",
            "After change\n",
            "16\n",
            "6\n",
            "6\n"
          ]
        }
      ]
    },
    {
      "cell_type": "code",
      "source": [
        "\n",
        "# 7. Using np.ndenumerate, create a 4x4 matrix of random integers between 10 and 50, and for each element, print the index and value if the value is divisible by 5.\n",
        "\n",
        "x=np.random.randint(10,50,(4,4))\n",
        "print(x)\n",
        "print(\"After change\")\n",
        "\n",
        "for index,value in np.ndenumerate(x):\n",
        "  if value%5==0:\n",
        "    print(index,value)"
      ],
      "metadata": {
        "colab": {
          "base_uri": "https://localhost:8080/"
        },
        "id": "dSm6NOQIyy5V",
        "outputId": "dcb4926a-8ad7-44c8-b133-f87376adaeab"
      },
      "execution_count": null,
      "outputs": [
        {
          "output_type": "stream",
          "name": "stdout",
          "text": [
            "[[19 26 46 23]\n",
            " [12 34 32 20]\n",
            " [45 28 20 14]\n",
            " [45 36 12 43]]\n",
            "After change\n",
            "(1, 3) 20\n",
            "(2, 0) 45\n",
            "(2, 2) 20\n",
            "(3, 0) 45\n"
          ]
        }
      ]
    },
    {
      "cell_type": "code",
      "source": [
        "# 8. Generate a 1D array of 20 evenly spaced values between -5 and 5 using np.linspace. Reshape the array into a 4x5 matrix and\n",
        "# use np.nditer to print each element that is negative.\n",
        "arr=np.linspace(-5,5,20,(4,5))\n",
        "print(arr)\n",
        "for i in np.nditer(arr):\n",
        "  if i<0:\n",
        "    print(i)\n",
        "\n"
      ],
      "metadata": {
        "colab": {
          "base_uri": "https://localhost:8080/"
        },
        "id": "NIm2ZBvT0qkv",
        "outputId": "19642dd2-bb72-4278-c241-d06a39a0bc6e"
      },
      "execution_count": null,
      "outputs": [
        {
          "output_type": "stream",
          "name": "stdout",
          "text": [
            "[-5.         -4.47368421 -3.94736842 -3.42105263 -2.89473684 -2.36842105\n",
            " -1.84210526 -1.31578947 -0.78947368 -0.26315789  0.26315789  0.78947368\n",
            "  1.31578947  1.84210526  2.36842105  2.89473684  3.42105263  3.94736842\n",
            "  4.47368421  5.        ]\n",
            "-5.0\n",
            "-4.473684210526316\n",
            "-3.947368421052632\n",
            "-3.4210526315789473\n",
            "-2.8947368421052633\n",
            "-2.368421052631579\n",
            "-1.8421052631578947\n",
            "-1.3157894736842106\n",
            "-0.7894736842105265\n",
            "-0.2631578947368425\n"
          ]
        }
      ]
    },
    {
      "cell_type": "code",
      "source": [
        "# 9. Create a 3x3 identity matrix using np.eye, and then with the help of np.ndenumerate,\n",
        "# print the index and value of each diagonal element.\n",
        "x=np.eye(3)\n",
        "print(x)\n",
        "\n",
        "for index,value in np.ndenumerate(x):\n",
        "  if index[0]==index[1]:\n",
        "    print(index,value)\n"
      ],
      "metadata": {
        "colab": {
          "base_uri": "https://localhost:8080/"
        },
        "id": "gH8a7iOY0qYj",
        "outputId": "d844f187-8941-4af1-ad7c-637a71ccda4d"
      },
      "execution_count": null,
      "outputs": [
        {
          "output_type": "stream",
          "name": "stdout",
          "text": [
            "[[1. 0. 0.]\n",
            " [0. 1. 0.]\n",
            " [0. 0. 1.]]\n",
            "(0, 0) 1.0\n",
            "(1, 1) 1.0\n",
            "(2, 2) 1.0\n"
          ]
        }
      ]
    },
    {
      "cell_type": "code",
      "source": [
        "\n",
        "# 10. Create two 2x2 arrays of random integers between 1 and 10 using np.random.randint. Use np.nditer to iterate over\n",
        "#both arrays simultaneously and print the corresponding elements where the first.\n",
        "\n",
        "arr1=np.random.randint(1,10,(2,2))\n",
        "arr2=np.random.randint(1,10,(2,2))\n",
        "print(arr1)\n",
        "print(arr2)\n",
        "print(\"After change\")\n",
        "for i,j in np.nditer([arr1,arr2]):\n",
        "  if i>j:\n",
        "    print(i,j)"
      ],
      "metadata": {
        "colab": {
          "base_uri": "https://localhost:8080/"
        },
        "id": "ZemDbjkb0qMm",
        "outputId": "70fcd10f-695b-470d-cf05-41408d88f9ef"
      },
      "execution_count": null,
      "outputs": [
        {
          "output_type": "stream",
          "name": "stdout",
          "text": [
            "[[4 3]\n",
            " [7 5]]\n",
            "[[5 2]\n",
            " [3 2]]\n",
            "After change\n",
            "3 2\n",
            "7 3\n",
            "5 2\n"
          ]
        }
      ]
    },
    {
      "cell_type": "code",
      "source": [
        "# !git config --global user.email \"rishabhsrivastava606@gmail.com\"\n",
        "# !git config --global user.name \"Rishabh\"\n",
        "!git config --list\n",
        "# # To initialize git repo\n",
        "# !git init"
      ],
      "metadata": {
        "colab": {
          "base_uri": "https://localhost:8080/"
        },
        "id": "ORKR9fSdbnT2",
        "outputId": "96833600-39f4-4a02-fc76-86c6b1380a65"
      },
      "execution_count": null,
      "outputs": [
        {
          "output_type": "stream",
          "name": "stdout",
          "text": [
            "filter.lfs.process=git-lfs filter-process\n",
            "filter.lfs.required=true\n",
            "filter.lfs.clean=git-lfs clean -- %f\n",
            "filter.lfs.smudge=git-lfs smudge -- %f\n",
            "user.email=rishabhsrivastava606@gmail.com\n",
            "user.name=Rishabh\n",
            "core.repositoryformatversion=0\n",
            "core.filemode=true\n",
            "core.bare=false\n",
            "core.logallrefupdates=true\n",
            "remote.origin.url=https://github.com/Rishabh6066/numpy_initial.git\n",
            "remote.origin.fetch=+refs/heads/*:refs/remotes/origin/*\n"
          ]
        }
      ]
    },
    {
      "cell_type": "code",
      "source": [
        "!git status"
      ],
      "metadata": {
        "colab": {
          "base_uri": "https://localhost:8080/"
        },
        "id": "IfxA0iNbdkfJ",
        "outputId": "77255fed-dceb-42e9-b21f-1e1b67a353a2"
      },
      "execution_count": null,
      "outputs": [
        {
          "output_type": "stream",
          "name": "stdout",
          "text": [
            "On branch main\n",
            "Your branch is up to date with 'origin/main'.\n",
            "\n",
            "nothing to commit, working tree clean\n"
          ]
        }
      ]
    },
    {
      "cell_type": "code",
      "source": [
        "# !git add .\n",
        "!git commit -m \"numpy abhi tk ka progress\""
      ],
      "metadata": {
        "colab": {
          "base_uri": "https://localhost:8080/"
        },
        "id": "fEUUA3tVeERv",
        "outputId": "d185ce3e-46b5-42cb-b510-7b264669a062"
      },
      "execution_count": null,
      "outputs": [
        {
          "output_type": "stream",
          "name": "stdout",
          "text": [
            "[master (root-commit) 27ff88b] numpy abhi tk ka progress\n",
            " 21 files changed, 51025 insertions(+)\n",
            " create mode 100644 .config/.last_opt_in_prompt.yaml\n",
            " create mode 100644 .config/.last_survey_prompt.yaml\n",
            " create mode 100644 .config/.last_update_check.json\n",
            " create mode 100644 .config/active_config\n",
            " create mode 100644 .config/config_sentinel\n",
            " create mode 100644 .config/configurations/config_default\n",
            " create mode 100644 .config/default_configs.db\n",
            " create mode 100644 .config/gce\n",
            " create mode 100644 .config/hidden_gcloud_config_universe_descriptor_data_cache_configs.db\n",
            " create mode 100644 .config/logs/2025.03.04/14.25.29.484800.log\n",
            " create mode 100644 .config/logs/2025.03.04/14.25.56.762625.log\n",
            " create mode 100644 .config/logs/2025.03.04/14.26.05.979204.log\n",
            " create mode 100644 .config/logs/2025.03.04/14.26.10.758958.log\n",
            " create mode 100644 .config/logs/2025.03.04/14.26.19.384068.log\n",
            " create mode 100644 .config/logs/2025.03.04/14.26.20.076126.log\n",
            " create mode 100755 sample_data/README.md\n",
            " create mode 100755 sample_data/anscombe.json\n",
            " create mode 100644 sample_data/california_housing_test.csv\n",
            " create mode 100644 sample_data/california_housing_train.csv\n",
            " create mode 100644 sample_data/mnist_test.csv\n",
            " create mode 100644 sample_data/mnist_train_small.csv\n"
          ]
        }
      ]
    },
    {
      "cell_type": "code",
      "source": [
        "# !git push"
      ],
      "metadata": {
        "colab": {
          "base_uri": "https://localhost:8080/"
        },
        "id": "GrOA0joFefB_",
        "outputId": "b2dc9ac9-4ddc-4b89-cbab-e92384cd6b11"
      },
      "execution_count": null,
      "outputs": [
        {
          "output_type": "stream",
          "name": "stdout",
          "text": [
            "fatal: No configured push destination.\n",
            "Either specify the URL from the command-line or configure a remote repository using\n",
            "\n",
            "    git remote add <name> <url>\n",
            "\n",
            "and then push using the remote name\n",
            "\n",
            "    git push <name>\n",
            "\n"
          ]
        }
      ]
    },
    {
      "cell_type": "code",
      "source": [
        "# !git branch -M main\n",
        "# !git remote set-url origin git@github.com:Rishabh6066/numpy_initial.git"
      ],
      "metadata": {
        "id": "kxlDjhcafBeh"
      },
      "execution_count": null,
      "outputs": []
    },
    {
      "cell_type": "code",
      "source": [
        "# # To generate rsa key\n",
        "\n",
        "# !ssh-keygen -t rsa -b 4096 -C \"rishabhsrivastava606@gmail.com\""
      ],
      "metadata": {
        "id": "cgcNYED9g63Z"
      },
      "execution_count": null,
      "outputs": []
    },
    {
      "cell_type": "code",
      "source": [
        "# To view teh rsa key\n",
        "\n",
        "# !cat ~/.ssh/id_rsa.pub"
      ],
      "metadata": {
        "id": "Jdq1ef6ThybL"
      },
      "execution_count": null,
      "outputs": []
    },
    {
      "cell_type": "code",
      "source": [
        "# # to connect to github\n",
        "\n",
        "# !ssh-keyscan -t rsa github.com >> ~/.ssh/known_hosts"
      ],
      "metadata": {
        "colab": {
          "base_uri": "https://localhost:8080/"
        },
        "id": "eMXFS3tjk5LN",
        "outputId": "105af834-91e1-4765-a68b-63cb20310a75"
      },
      "execution_count": null,
      "outputs": [
        {
          "output_type": "stream",
          "name": "stdout",
          "text": [
            "# github.com:22 SSH-2.0-72017104c\n"
          ]
        }
      ]
    },
    {
      "cell_type": "code",
      "source": [
        "# # For pushing first time any repo to main\n",
        "\n",
        "# !git push -u origin main"
      ],
      "metadata": {
        "colab": {
          "base_uri": "https://localhost:8080/"
        },
        "id": "IntFGYE9iXr1",
        "outputId": "5ebacd00-5c5d-4d2c-c71d-bab039ad1f0a"
      },
      "execution_count": null,
      "outputs": [
        {
          "output_type": "stream",
          "name": "stdout",
          "text": [
            "Host key verification failed.\r\n",
            "fatal: Could not read from remote repository.\n",
            "\n",
            "Please make sure you have the correct access rights\n",
            "and the repository exists.\n"
          ]
        }
      ]
    },
    {
      "cell_type": "code",
      "source": [
        "# !git remote add origin git@github.com:Rishabh6066/numpy_initial.git"
      ],
      "metadata": {
        "colab": {
          "base_uri": "https://localhost:8080/"
        },
        "id": "qNIpetJKkRSz",
        "outputId": "36583230-b186-4b47-cfd9-7f66f3b81915"
      },
      "execution_count": null,
      "outputs": [
        {
          "output_type": "stream",
          "name": "stdout",
          "text": [
            "error: remote origin already exists.\n"
          ]
        }
      ]
    },
    {
      "cell_type": "code",
      "source": [
        "# !git branch -M main"
      ],
      "metadata": {
        "id": "TDLanpa4kjAf"
      },
      "execution_count": null,
      "outputs": []
    },
    {
      "cell_type": "code",
      "source": [
        "# !git push -u origin main"
      ],
      "metadata": {
        "colab": {
          "base_uri": "https://localhost:8080/"
        },
        "id": "CR_OKdBMknWq",
        "outputId": "d1b99bc5-5872-405c-cf50-f56753309faf"
      },
      "execution_count": null,
      "outputs": [
        {
          "output_type": "stream",
          "name": "stdout",
          "text": [
            "Enumerating objects: 28, done.\n",
            "Counting objects:   3% (1/28)\rCounting objects:   7% (2/28)\rCounting objects:  10% (3/28)\rCounting objects:  14% (4/28)\rCounting objects:  17% (5/28)\rCounting objects:  21% (6/28)\rCounting objects:  25% (7/28)\rCounting objects:  28% (8/28)\rCounting objects:  32% (9/28)\rCounting objects:  35% (10/28)\rCounting objects:  39% (11/28)\rCounting objects:  42% (12/28)\rCounting objects:  46% (13/28)\rCounting objects:  50% (14/28)\rCounting objects:  53% (15/28)\rCounting objects:  57% (16/28)\rCounting objects:  60% (17/28)\rCounting objects:  64% (18/28)\rCounting objects:  67% (19/28)\rCounting objects:  71% (20/28)\rCounting objects:  75% (21/28)\rCounting objects:  78% (22/28)\rCounting objects:  82% (23/28)\rCounting objects:  85% (24/28)\rCounting objects:  89% (25/28)\rCounting objects:  92% (26/28)\rCounting objects:  96% (27/28)\rCounting objects: 100% (28/28)\rCounting objects: 100% (28/28), done.\n",
            "Delta compression using up to 2 threads\n",
            "Compressing objects: 100% (21/21), done.\n",
            "Writing objects: 100% (28/28), 8.42 MiB | 1.80 MiB/s, done.\n",
            "Total 28 (delta 4), reused 0 (delta 0), pack-reused 0\n",
            "remote: Resolving deltas: 100% (4/4), done.\u001b[K\n",
            "To github.com:Rishabh6066/numpy_initial.git\n",
            " * [new branch]      main -> main\n",
            "Branch 'main' set up to track remote branch 'main' from 'origin'.\n"
          ]
        }
      ]
    },
    {
      "cell_type": "code",
      "source": [
        "# !git log"
      ],
      "metadata": {
        "colab": {
          "base_uri": "https://localhost:8080/"
        },
        "id": "k_xtfkjRk3PN",
        "outputId": "2b5f405a-d756-4cb1-c52d-f91057183492"
      },
      "execution_count": null,
      "outputs": [
        {
          "output_type": "stream",
          "name": "stdout",
          "text": [
            "\u001b[33mcommit 27ff88be250ab4d317200193df7c15e706ea0108\u001b[m\u001b[33m (\u001b[m\u001b[1;36mHEAD -> \u001b[m\u001b[1;32mmain\u001b[m\u001b[33m, \u001b[m\u001b[1;31morigin/main\u001b[m\u001b[33m)\u001b[m\n",
            "Author: Rishabh <rishabhsrivastava606@gmail.com>\n",
            "Date:   Thu Mar 6 17:21:15 2025 +0000\n",
            "\n",
            "    numpy abhi tk ka progress\n"
          ]
        }
      ]
    },
    {
      "cell_type": "code",
      "source": [
        "!git branch"
      ],
      "metadata": {
        "colab": {
          "base_uri": "https://localhost:8080/"
        },
        "id": "6T2xCtASks1i",
        "outputId": "ee4009b4-5192-4f96-9b2d-6c0ae6ba637c"
      },
      "execution_count": null,
      "outputs": [
        {
          "output_type": "stream",
          "name": "stdout",
          "text": [
            "* \u001b[32mmain\u001b[m\n"
          ]
        }
      ]
    },
    {
      "cell_type": "code",
      "source": [],
      "metadata": {
        "colab": {
          "base_uri": "https://localhost:8080/"
        },
        "id": "oFdSyX0xmWLF",
        "outputId": "fe6e2e91-22ea-43cb-f46d-bf21d51be020"
      },
      "execution_count": null,
      "outputs": [
        {
          "output_type": "stream",
          "name": "stdout",
          "text": [
            "Switched to a new branch 'b-01'\n"
          ]
        }
      ]
    },
    {
      "cell_type": "code",
      "source": [],
      "metadata": {
        "id": "xjZQ0d4mmgJm"
      },
      "execution_count": null,
      "outputs": []
    },
    {
      "cell_type": "code",
      "source": [],
      "metadata": {
        "id": "1gMtUxqiobxe",
        "outputId": "bf6cb7e9-f735-407d-f214-82a637d53a2d",
        "colab": {
          "base_uri": "https://localhost:8080/"
        }
      },
      "execution_count": null,
      "outputs": [
        {
          "output_type": "stream",
          "name": "stdout",
          "text": [
            "\u001b[33mcommit 27ff88be250ab4d317200193df7c15e706ea0108\u001b[m\u001b[33m (\u001b[m\u001b[1;36mHEAD -> \u001b[m\u001b[1;32mmain\u001b[m\u001b[33m, \u001b[m\u001b[1;31morigin/main\u001b[m\u001b[33m, \u001b[m\u001b[1;31morigin/HEAD\u001b[m\u001b[33m)\u001b[m\n",
            "Author: Rishabh <rishabhsrivastava606@gmail.com>\n",
            "Date:   Thu Mar 6 17:21:15 2025 +0000\n",
            "\n",
            "    numpy abhi tk ka progress\n"
          ]
        }
      ]
    },
    {
      "cell_type": "code",
      "source": [],
      "metadata": {
        "id": "2VdmYfj2pUhc"
      },
      "execution_count": null,
      "outputs": []
    }
  ]
}